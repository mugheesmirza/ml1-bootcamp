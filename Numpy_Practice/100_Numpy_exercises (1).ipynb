{
 "cells": [
  {
   "cell_type": "markdown",
   "id": "6293cc50",
   "metadata": {},
   "source": [
    "# 100 numpy exercises\n",
    "\n",
    "This is a collection of exercises that have been collected in the numpy mailing list, on stack overflow\n",
    "and in the numpy documentation. The goal of this collection is to offer a quick reference for both old\n",
    "and new users but also to provide a set of exercises for those who teach."
   ]
  },
  {
   "cell_type": "markdown",
   "id": "a167c052",
   "metadata": {},
   "source": [
    "File automatically generated. See the documentation to update questions/answers/hints programmatically."
   ]
  },
  {
   "cell_type": "markdown",
   "id": "3c1222ff",
   "metadata": {},
   "source": [
    "#### 1. Import the numpy package under the name `np` "
   ]
  },
  {
   "cell_type": "code",
   "execution_count": 2,
   "id": "f52e6a0b",
   "metadata": {},
   "outputs": [],
   "source": [
    "import numpy as np"
   ]
  },
  {
   "cell_type": "markdown",
   "id": "9d9f4753",
   "metadata": {},
   "source": [
    "#### 2. Print the numpy version and the configuration"
   ]
  },
  {
   "cell_type": "code",
   "execution_count": 4,
   "id": "b7fa5fa1",
   "metadata": {},
   "outputs": [
    {
     "name": "stdout",
     "output_type": "stream",
     "text": [
      "1.26.4\n"
     ]
    }
   ],
   "source": [
    "print(np.__version__)"
   ]
  },
  {
   "cell_type": "markdown",
   "id": "3e4c23c6",
   "metadata": {},
   "source": [
    "#### 3. Create a null vector of size 10"
   ]
  },
  {
   "cell_type": "code",
   "execution_count": 10,
   "id": "083c5c46",
   "metadata": {},
   "outputs": [
    {
     "name": "stdout",
     "output_type": "stream",
     "text": [
      "[0. 0. 0. 0. 0. 0. 0. 0. 0. 0.]\n"
     ]
    }
   ],
   "source": [
    "null_vec = np.zeros(10)\n",
    "print(null_vec)"
   ]
  },
  {
   "cell_type": "markdown",
   "id": "c38bbe82",
   "metadata": {},
   "source": [
    "#### 4. How to find the memory size of any array "
   ]
  },
  {
   "cell_type": "code",
   "execution_count": 18,
   "id": "02b04021",
   "metadata": {},
   "outputs": [
    {
     "data": {
      "text/plain": [
       "80"
      ]
     },
     "execution_count": 18,
     "metadata": {},
     "output_type": "execute_result"
    }
   ],
   "source": [
    "null_vec.nbytes"
   ]
  },
  {
   "cell_type": "markdown",
   "id": "67f893d4",
   "metadata": {},
   "source": [
    "#### 5. How to get the documentation of the numpy add function from the command line?"
   ]
  },
  {
   "cell_type": "code",
   "execution_count": 6,
   "id": "40e6b70d",
   "metadata": {},
   "outputs": [
    {
     "name": "stdout",
     "output_type": "stream",
     "text": [
      "Help on ufunc:\n",
      "\n",
      "add = <ufunc 'add'>\n",
      "    add(x1, x2, /, out=None, *, where=True, casting='same_kind', order='K', dtype=None, subok=True[, signature, extobj])\n",
      "\n",
      "    Add arguments element-wise.\n",
      "\n",
      "    Parameters\n",
      "    ----------\n",
      "    x1, x2 : array_like\n",
      "        The arrays to be added.\n",
      "        If ``x1.shape != x2.shape``, they must be broadcastable to a common\n",
      "        shape (which becomes the shape of the output).\n",
      "    out : ndarray, None, or tuple of ndarray and None, optional\n",
      "        A location into which the result is stored. If provided, it must have\n",
      "        a shape that the inputs broadcast to. If not provided or None,\n",
      "        a freshly-allocated array is returned. A tuple (possible only as a\n",
      "        keyword argument) must have length equal to the number of outputs.\n",
      "    where : array_like, optional\n",
      "        This condition is broadcast over the input. At locations where the\n",
      "        condition is True, the `out` array will be set to the ufunc result.\n",
      "        Elsewhere, the `out` array will retain its original value.\n",
      "        Note that if an uninitialized `out` array is created via the default\n",
      "        ``out=None``, locations within it where the condition is False will\n",
      "        remain uninitialized.\n",
      "    **kwargs\n",
      "        For other keyword-only arguments, see the\n",
      "        :ref:`ufunc docs <ufuncs.kwargs>`.\n",
      "\n",
      "    Returns\n",
      "    -------\n",
      "    add : ndarray or scalar\n",
      "        The sum of `x1` and `x2`, element-wise.\n",
      "        This is a scalar if both `x1` and `x2` are scalars.\n",
      "\n",
      "    Notes\n",
      "    -----\n",
      "    Equivalent to `x1` + `x2` in terms of array broadcasting.\n",
      "\n",
      "    Examples\n",
      "    --------\n",
      "    >>> np.add(1.0, 4.0)\n",
      "    5.0\n",
      "    >>> x1 = np.arange(9.0).reshape((3, 3))\n",
      "    >>> x2 = np.arange(3.0)\n",
      "    >>> np.add(x1, x2)\n",
      "    array([[  0.,   2.,   4.],\n",
      "           [  3.,   5.,   7.],\n",
      "           [  6.,   8.,  10.]])\n",
      "\n",
      "    The ``+`` operator can be used as a shorthand for ``np.add`` on ndarrays.\n",
      "\n",
      "    >>> x1 = np.arange(9.0).reshape((3, 3))\n",
      "    >>> x2 = np.arange(3.0)\n",
      "    >>> x1 + x2\n",
      "    array([[ 0.,  2.,  4.],\n",
      "           [ 3.,  5.,  7.],\n",
      "           [ 6.,  8., 10.]])\n",
      "\n"
     ]
    }
   ],
   "source": [
    "help(np.add)"
   ]
  },
  {
   "cell_type": "markdown",
   "id": "e0c739c6",
   "metadata": {},
   "source": [
    "#### 6. Create a null vector of size 10 but the fifth value which is 1"
   ]
  },
  {
   "cell_type": "code",
   "execution_count": 22,
   "id": "bcceacf7",
   "metadata": {},
   "outputs": [
    {
     "name": "stdout",
     "output_type": "stream",
     "text": [
      "[0. 0. 0. 0. 0. 1. 0. 0. 0. 0.]\n"
     ]
    }
   ],
   "source": [
    "vec = np.zeros(10)\n",
    "vec[5] = 1\n",
    "print(vec)"
   ]
  },
  {
   "cell_type": "markdown",
   "id": "fbebedab",
   "metadata": {},
   "source": [
    "#### 7. Create a vector with values ranging from 10 to 49"
   ]
  },
  {
   "cell_type": "code",
   "execution_count": 43,
   "id": "3d117d54",
   "metadata": {},
   "outputs": [
    {
     "name": "stdout",
     "output_type": "stream",
     "text": [
      "[10 11 12 13 14 15 16 17 18 19 20 21 22 23 24 25 26 27 28 29 30 31 32 33\n",
      " 34 35 36 37 38 39 40 41 42 43 44 45 46 47 48 49]\n"
     ]
    }
   ],
   "source": [
    "vec = np.arange(10, 50)\n",
    "print(vec)"
   ]
  },
  {
   "cell_type": "markdown",
   "id": "ad0bff02",
   "metadata": {},
   "source": [
    "#### 8. Reverse a vector (first element becomes last)\n"
   ]
  },
  {
   "cell_type": "code",
   "execution_count": 45,
   "id": "22d23470",
   "metadata": {},
   "outputs": [
    {
     "name": "stdout",
     "output_type": "stream",
     "text": [
      "[49 48 47 46 45 44 43 42 41 40 39 38 37 36 35 34 33 32 31 30 29 28 27 26\n",
      " 25 24 23 22 21 20 19 18 17 16 15 14 13 12 11 10]\n"
     ]
    }
   ],
   "source": [
    "vec = vec[::-1]\n",
    "print(vec)"
   ]
  },
  {
   "cell_type": "markdown",
   "id": "9f59d7e1",
   "metadata": {},
   "source": [
    "#### 9. Create a 3x3 matrix with values ranging from 0 to 8"
   ]
  },
  {
   "cell_type": "code",
   "execution_count": 51,
   "id": "7449e82d",
   "metadata": {},
   "outputs": [
    {
     "data": {
      "text/plain": [
       "array([[0, 1, 2],\n",
       "       [3, 4, 5],\n",
       "       [6, 7, 8]])"
      ]
     },
     "execution_count": 51,
     "metadata": {},
     "output_type": "execute_result"
    }
   ],
   "source": [
    "np.arange(9).reshape(3,3)"
   ]
  },
  {
   "cell_type": "markdown",
   "id": "f374c4cf",
   "metadata": {},
   "source": [
    "#### 10. Find indices of non-zero elements from [1,2,0,0,4,0] "
   ]
  },
  {
   "cell_type": "code",
   "execution_count": 64,
   "id": "1a84bed8",
   "metadata": {},
   "outputs": [
    {
     "name": "stdout",
     "output_type": "stream",
     "text": [
      "[0 1 4]\n"
     ]
    }
   ],
   "source": [
    "given_arr = np.array([1,2,0,0,4,0])\n",
    "non_zero_idx = np.nonzero(given_arr)[0]\n",
    "print(non_zero_idx)"
   ]
  },
  {
   "cell_type": "markdown",
   "id": "9c4707f5",
   "metadata": {},
   "source": [
    "#### 11. Create a 3x3 identity matrix\n"
   ]
  },
  {
   "cell_type": "code",
   "execution_count": 58,
   "id": "29dc1fd3",
   "metadata": {},
   "outputs": [
    {
     "data": {
      "text/plain": [
       "array([[1., 1., 1.],\n",
       "       [1., 1., 1.],\n",
       "       [1., 1., 1.]])"
      ]
     },
     "execution_count": 58,
     "metadata": {},
     "output_type": "execute_result"
    }
   ],
   "source": [
    "np.ones(9).reshape(3,3)"
   ]
  },
  {
   "cell_type": "markdown",
   "id": "3bac294a",
   "metadata": {},
   "source": [
    "#### 12. Create a 3x3x3 array with random values"
   ]
  },
  {
   "cell_type": "code",
   "execution_count": 66,
   "id": "eadfae67",
   "metadata": {},
   "outputs": [
    {
     "data": {
      "text/plain": [
       "array([[[0.49342737, 0.37119871, 0.70030177],\n",
       "        [0.56926677, 0.21879395, 0.18599657],\n",
       "        [0.42454583, 0.9501963 , 0.61018012]],\n",
       "\n",
       "       [[0.26769551, 0.2770168 , 0.9588631 ],\n",
       "        [0.46938677, 0.40299596, 0.04579171],\n",
       "        [0.04574043, 0.8336582 , 0.23745272]],\n",
       "\n",
       "       [[0.84606812, 0.42160183, 0.43751079],\n",
       "        [0.52718403, 0.24089235, 0.46053205],\n",
       "        [0.29080319, 0.92887677, 0.6246931 ]]])"
      ]
     },
     "execution_count": 66,
     "metadata": {},
     "output_type": "execute_result"
    }
   ],
   "source": [
    "np.random.rand(3,3,3)"
   ]
  },
  {
   "cell_type": "markdown",
   "id": "466c2989",
   "metadata": {},
   "source": [
    "#### 13. Create a 10x10 array with random values and find the minimum and maximum values"
   ]
  },
  {
   "cell_type": "code",
   "execution_count": 74,
   "id": "9a74dbfc",
   "metadata": {},
   "outputs": [
    {
     "name": "stdout",
     "output_type": "stream",
     "text": [
      "Max = 0.9630824700580828 Min = 0.011358572402803135\n"
     ]
    }
   ],
   "source": [
    "arr = np.random.rand(10,10)\n",
    "print(f\"Max = {np.max(arr)} Min = {np.min(arr)}\")"
   ]
  },
  {
   "cell_type": "markdown",
   "id": "53a8edb2",
   "metadata": {},
   "source": [
    "#### 14. Create a random vector of size 30 and find the mean value"
   ]
  },
  {
   "cell_type": "code",
   "execution_count": 86,
   "id": "6691530b",
   "metadata": {},
   "outputs": [
    {
     "name": "stdout",
     "output_type": "stream",
     "text": [
      "[0.60303924 0.68979865 0.8121607  0.32686734 0.70736846 0.86464547\n",
      " 0.26157137 0.21483075 0.57049036 0.94001588 0.11811048 0.30757193\n",
      " 0.66414218 0.26749571 0.74654105 0.98144519 0.16712223 0.27299295\n",
      " 0.26817856 0.13094978 0.43515996 0.04821357 0.10240187 0.85449051\n",
      " 0.18393297 0.50514208 0.54157931 0.01239591 0.1081892  0.77739804]\n",
      "Mean = 0.44947472330182514\n"
     ]
    }
   ],
   "source": [
    "vec = np.random.rand(30)\n",
    "print(vec)\n",
    "print(f\"Mean = {np.mean(vec)}\")"
   ]
  },
  {
   "cell_type": "markdown",
   "id": "cbaad31c",
   "metadata": {},
   "source": [
    "#### 15. Create a 2d array with 1 on the border and 0 inside"
   ]
  },
  {
   "cell_type": "code",
   "execution_count": 90,
   "id": "ad8308e3",
   "metadata": {},
   "outputs": [],
   "source": [
    "arr = np.ones(100).reshape(10,10)\n",
    "arr[1:-1, 1:-1] = 0"
   ]
  },
  {
   "cell_type": "markdown",
   "id": "4d746367",
   "metadata": {},
   "source": [
    "```\n",
    "[[1. 1. 1. 1. 1. 1. 1. 1. 1. 1.]\n",
    " [1. 0. 0. 0. 0. 0. 0. 0. 0. 1.]\n",
    " [1. 0. 0. 0. 0. 0. 0. 0. 0. 1.]\n",
    " [1. 0. 0. 0. 0. 0. 0. 0. 0. 1.]\n",
    " [1. 0. 0. 0. 0. 0. 0. 0. 0. 1.]\n",
    " [1. 0. 0. 0. 0. 0. 0. 0. 0. 1.]\n",
    " [1. 0. 0. 0. 0. 0. 0. 0. 0. 1.]\n",
    " [1. 0. 0. 0. 0. 0. 0. 0. 0. 1.]\n",
    " [1. 0. 0. 0. 0. 0. 0. 0. 0. 1.]\n",
    " [1. 1. 1. 1. 1. 1. 1. 1. 1. 1.]]\n",
    "```"
   ]
  },
  {
   "cell_type": "markdown",
   "id": "c5ecc267",
   "metadata": {},
   "source": [
    "#### 16. How to add a border (filled with 0's) around an existing array?"
   ]
  },
  {
   "cell_type": "code",
   "execution_count": 94,
   "id": "9d5c78c4",
   "metadata": {},
   "outputs": [
    {
     "name": "stdout",
     "output_type": "stream",
     "text": [
      "[[0. 0. 0. 0. 0. 0. 0. 0. 0. 0. 0. 0.]\n",
      " [0. 1. 1. 1. 1. 1. 1. 1. 1. 1. 1. 0.]\n",
      " [0. 1. 1. 1. 1. 1. 1. 1. 1. 1. 1. 0.]\n",
      " [0. 1. 1. 1. 1. 1. 1. 1. 1. 1. 1. 0.]\n",
      " [0. 1. 1. 1. 1. 1. 1. 1. 1. 1. 1. 0.]\n",
      " [0. 1. 1. 1. 1. 1. 1. 1. 1. 1. 1. 0.]\n",
      " [0. 1. 1. 1. 1. 1. 1. 1. 1. 1. 1. 0.]\n",
      " [0. 1. 1. 1. 1. 1. 1. 1. 1. 1. 1. 0.]\n",
      " [0. 1. 1. 1. 1. 1. 1. 1. 1. 1. 1. 0.]\n",
      " [0. 1. 1. 1. 1. 1. 1. 1. 1. 1. 1. 0.]\n",
      " [0. 1. 1. 1. 1. 1. 1. 1. 1. 1. 1. 0.]\n",
      " [0. 0. 0. 0. 0. 0. 0. 0. 0. 0. 0. 0.]]\n"
     ]
    }
   ],
   "source": [
    "arr_size = 10\n",
    "arr = np.ones(arr_size**2).reshape(arr_size,arr_size)\n",
    "arr_2 = np.zeros((arr_size+2)**2).reshape(arr_size+2,arr_size+2)\n",
    "arr_2[1:-1,1:-1] = arr\n",
    "print (arr_2)"
   ]
  },
  {
   "cell_type": "markdown",
   "id": "ef909b72",
   "metadata": {},
   "source": [
    "#### 17. What is the result of the following expression?\n",
    "```python\n",
    "0 * np.nan\n",
    "np.nan == np.nan\n",
    "np.inf > np.nan\n",
    "np.nan - np.nan\n",
    "np.nan in set([np.nan])\n",
    "0.3 == 3 * 0.1\n",
    "```"
   ]
  },
  {
   "cell_type": "code",
   "execution_count": 101,
   "id": "3b4985f2",
   "metadata": {},
   "outputs": [
    {
     "name": "stdout",
     "output_type": "stream",
     "text": [
      "nan\n",
      "False\n",
      "False\n",
      "nan\n",
      "True\n",
      "False\n"
     ]
    }
   ],
   "source": [
    "print(0 * np.nan)\n",
    "print(np.nan == np.nan)\n",
    "print(np.inf > np.nan)\n",
    "print(np.nan - np.nan)\n",
    "print(np.nan in set([np.nan]))\n",
    "print(0.3 == 3 * 0.1)"
   ]
  },
  {
   "cell_type": "markdown",
   "id": "502738ac",
   "metadata": {},
   "source": [
    "#### 18. Create a 5x5 matrix with values 1,2,3,4 just below the diagonal"
   ]
  },
  {
   "cell_type": "code",
   "execution_count": 105,
   "id": "faed6e2b",
   "metadata": {},
   "outputs": [
    {
     "name": "stdout",
     "output_type": "stream",
     "text": [
      "[[0 0 0 0 0]\n",
      " [1 0 0 0 0]\n",
      " [0 2 0 0 0]\n",
      " [0 0 3 0 0]\n",
      " [0 0 0 4 0]]\n"
     ]
    }
   ],
   "source": [
    "mat = np.diag([1,2,3,4], k=-1)\n",
    "print(mat)"
   ]
  },
  {
   "cell_type": "markdown",
   "id": "a65da660",
   "metadata": {},
   "source": [
    "#### 19. Create a 8x8 matrix and fill it with a checkerboard pattern"
   ]
  },
  {
   "cell_type": "code",
   "execution_count": 111,
   "id": "ed150400",
   "metadata": {},
   "outputs": [
    {
     "name": "stdout",
     "output_type": "stream",
     "text": [
      "[[0 1 0 1 0 1 0 1]\n",
      " [1 0 1 0 1 0 1 0]\n",
      " [0 1 0 1 0 1 0 1]\n",
      " [1 0 1 0 1 0 1 0]\n",
      " [0 1 0 1 0 1 0 1]\n",
      " [1 0 1 0 1 0 1 0]\n",
      " [0 1 0 1 0 1 0 1]\n",
      " [1 0 1 0 1 0 1 0]]\n"
     ]
    }
   ],
   "source": [
    "matrix = np.zeros((8, 8), dtype=int)\n",
    "matrix[1::2, ::2] = 1\n",
    "matrix[::2, 1::2] = 1\n",
    "\n",
    "print(matrix)"
   ]
  },
  {
   "cell_type": "markdown",
   "id": "9f7f9c49",
   "metadata": {},
   "source": [
    "#### 20. Consider a (6,7,8) shape array, what is the index (x,y,z) of the 100th element? "
   ]
  },
  {
   "cell_type": "code",
   "execution_count": 117,
   "id": "3782b5a9",
   "metadata": {},
   "outputs": [
    {
     "name": "stdout",
     "output_type": "stream",
     "text": [
      "(1, 5, 3)\n"
     ]
    }
   ],
   "source": [
    "array = np.empty((6,7,8))\n",
    "index = np.unravel_index(99, array.shape)\n",
    "print(index)"
   ]
  },
  {
   "cell_type": "markdown",
   "id": "66bfda35",
   "metadata": {},
   "source": [
    "#### 21. Create a checkerboard 8x8 matrix using the tile function"
   ]
  },
  {
   "cell_type": "code",
   "execution_count": 120,
   "id": "4c07477c",
   "metadata": {},
   "outputs": [
    {
     "name": "stdout",
     "output_type": "stream",
     "text": [
      "[[0 1 0 1 0 1 0 1]\n",
      " [1 0 1 0 1 0 1 0]\n",
      " [0 1 0 1 0 1 0 1]\n",
      " [1 0 1 0 1 0 1 0]\n",
      " [0 1 0 1 0 1 0 1]\n",
      " [1 0 1 0 1 0 1 0]\n",
      " [0 1 0 1 0 1 0 1]\n",
      " [1 0 1 0 1 0 1 0]]\n"
     ]
    }
   ],
   "source": [
    "checkerboard = np.array([[0, 1], [1, 0]])\n",
    "checkerboard_8x8 = np.tile(checkerboard, (4, 4))\n",
    "\n",
    "print(checkerboard_8x8)"
   ]
  },
  {
   "cell_type": "markdown",
   "id": "d5bcfc08",
   "metadata": {},
   "source": [
    "#### 22. Normalize a 5x5 random matrix"
   ]
  },
  {
   "cell_type": "code",
   "execution_count": 199,
   "id": "cea6c993",
   "metadata": {},
   "outputs": [
    {
     "name": "stdout",
     "output_type": "stream",
     "text": [
      "[[0.22769741 0.66871871 0.2094462  0.         0.36515414]\n",
      " [0.21923296 0.43983775 0.60517497 0.4871407  0.28404325]\n",
      " [0.98347073 1.         0.58615159 0.69631225 0.67788066]\n",
      " [0.81197033 0.75981383 0.87444704 0.95361496 0.06221967]\n",
      " [0.54730896 0.77603792 0.22065608 0.38307724 0.14080754]]\n"
     ]
    }
   ],
   "source": [
    "random_array = np.random.rand(5, 5)*10\n",
    "\n",
    "min_val = random_array.min()\n",
    "max_val = random_array.max()\n",
    "\n",
    "normalized_array = (random_array - min_val) / (max_val - min_val)\n",
    "\n",
    "print(normalized_array)"
   ]
  },
  {
   "cell_type": "markdown",
   "id": "f9a0911e",
   "metadata": {},
   "source": [
    "#### 23. Create a custom dtype that describes a color as four unsigned bytes (RGBA)"
   ]
  },
  {
   "cell_type": "code",
   "execution_count": 152,
   "id": "d165044b",
   "metadata": {},
   "outputs": [
    {
     "name": "stdout",
     "output_type": "stream",
     "text": [
      "[('R', 'u1'), ('G', 'u1'), ('B', 'u1'), ('A', 'u1')]\n"
     ]
    }
   ],
   "source": [
    "color_dtype = np.dtype([('R', np.ubyte), ('G', np.ubyte), ('B', np.ubyte), ('A', np.ubyte)])\n",
    "\n",
    "print(color_dtype)"
   ]
  },
  {
   "cell_type": "code",
   "execution_count": 154,
   "id": "750a3e68",
   "metadata": {},
   "outputs": [
    {
     "name": "stdout",
     "output_type": "stream",
     "text": [
      "[(255,   0, 0, 255) (  0, 255, 0, 255)]\n"
     ]
    }
   ],
   "source": [
    "color_data = np.array([(255, 0, 0, 255), (0, 255, 0, 255)], dtype=color_dtype)\n",
    "\n",
    "print(color_data)"
   ]
  },
  {
   "cell_type": "markdown",
   "id": "654805b1",
   "metadata": {},
   "source": [
    "#### 24. Multiply a 5x3 matrix by a 3x2 matrix (real matrix product)"
   ]
  },
  {
   "cell_type": "code",
   "execution_count": 148,
   "id": "6a42619f",
   "metadata": {},
   "outputs": [
    {
     "name": "stdout",
     "output_type": "stream",
     "text": [
      "arr1=array([[23, 45,  4],\n",
      "       [73, 13, 88],\n",
      "       [81, 65, 38],\n",
      "       [20, 44,  9],\n",
      "       [97, 54, 20]])\n",
      "arr2=array([[81, 84],\n",
      "       [84, 37],\n",
      "       [67, 93]])\n",
      "arr1.dot(arr2)=array([[ 5911,  3969],\n",
      "       [12901, 14797],\n",
      "       [14567, 12743],\n",
      "       [ 5919,  4145],\n",
      "       [13733, 12006]])\n"
     ]
    }
   ],
   "source": [
    "arr1 = np.random.randint(1,99, size=(5,3))\n",
    "arr2 = np.random.randint(1,99, size=(3,2))\n",
    "arr1.dot(arr2)\n",
    "print(f\"{arr1=}\")\n",
    "print(f\"{arr2=}\")\n",
    "print(f\"{arr1.dot(arr2)=}\")"
   ]
  },
  {
   "cell_type": "markdown",
   "id": "994c25df",
   "metadata": {},
   "source": [
    "#### 25. Given a 1D array, negate all elements which are between 3 and 8, in place."
   ]
  },
  {
   "cell_type": "code",
   "execution_count": 156,
   "id": "e4b39c03",
   "metadata": {},
   "outputs": [
    {
     "name": "stdout",
     "output_type": "stream",
     "text": [
      "[ 1 -4 -6  9 -7  2 -5  3  8]\n"
     ]
    }
   ],
   "source": [
    "arr = np.array([1, 4, 6, 9, 7, 2, 5, 3, 8])\n",
    "arr[(arr > 3) & (arr < 8)] *= -1\n",
    "\n",
    "print(arr)"
   ]
  },
  {
   "cell_type": "markdown",
   "id": "b7d15d1a",
   "metadata": {},
   "source": [
    "#### 26. What is the output of the following script?\n",
    "```python\n",
    "# Author: Jake VanderPlas\n",
    "\n",
    "print(sum(range(5),-1))\n",
    "from numpy import *\n",
    "print(sum(range(5),-1))\n",
    "```"
   ]
  },
  {
   "cell_type": "code",
   "execution_count": 158,
   "id": "4c95bc3f",
   "metadata": {},
   "outputs": [
    {
     "name": "stdout",
     "output_type": "stream",
     "text": [
      "9\n",
      "10\n"
     ]
    }
   ],
   "source": [
    "print(sum(range(5),-1))\n",
    "from numpy import *\n",
    "print(sum(range(5),-1))"
   ]
  },
  {
   "cell_type": "markdown",
   "id": "a34f0d08",
   "metadata": {},
   "source": [
    "#### 27. Consider an integer vector Z, which of these expressions are legal?\n",
    "```python\n",
    "Z**Z\n",
    "2 << Z >> 2\n",
    "Z <- Z\n",
    "1j*Z\n",
    "Z/1/1\n",
    "Z<Z>Z\n",
    "```"
   ]
  },
  {
   "cell_type": "code",
   "execution_count": 234,
   "id": "564658fc",
   "metadata": {},
   "outputs": [
    {
     "name": "stdout",
     "output_type": "stream",
     "text": [
      "[   1    4   27  256 3125]\n",
      "[ 1  2  4  8 16]\n",
      "[False False False False False]\n",
      "[0.+1.j 0.+2.j 0.+3.j 0.+4.j 0.+5.j]\n",
      "[1. 2. 3. 4. 5.]\n"
     ]
    }
   ],
   "source": [
    "Z = np.array([1, 2, 3, 4, 5])\n",
    "\n",
    "# Check the legality of the expressions\n",
    "result1 = Z**Z\n",
    "result2 = 2 << Z >> 2\n",
    "result3 = Z <- Z\n",
    "result4 = 1j*Z\n",
    "result5 = Z/1/1\n",
    "# result6 = Z<Z>Z  # This line is not a legal expression\n",
    "\n",
    "# Print the results\n",
    "print(result1)\n",
    "print(result2)\n",
    "print(result3)\n",
    "print(result4)\n",
    "print(result5)"
   ]
  },
  {
   "cell_type": "markdown",
   "id": "c34e94bf",
   "metadata": {},
   "source": [
    "#### 28. What are the result of the following expressions?\n",
    "```python\n",
    "np.array(0) / np.array(0)\n",
    "np.array(0) // np.array(0)\n",
    "np.array([np.nan]).astype(int).astype(float)\n",
    "```"
   ]
  },
  {
   "cell_type": "code",
   "execution_count": 170,
   "id": "56663562",
   "metadata": {},
   "outputs": [
    {
     "name": "stdout",
     "output_type": "stream",
     "text": [
      "nan\n",
      "0\n",
      "[-2.14748365e+09]\n"
     ]
    },
    {
     "name": "stderr",
     "output_type": "stream",
     "text": [
      "C:\\Users\\mughe\\AppData\\Local\\Temp\\ipykernel_13820\\3912170336.py:1: RuntimeWarning: invalid value encountered in divide\n",
      "  print(np.array(0) / np.array(0))\n",
      "C:\\Users\\mughe\\AppData\\Local\\Temp\\ipykernel_13820\\3912170336.py:2: RuntimeWarning: divide by zero encountered in floor_divide\n",
      "  print(np.array(0) // np.array(0))\n",
      "C:\\Users\\mughe\\AppData\\Local\\Temp\\ipykernel_13820\\3912170336.py:3: RuntimeWarning: invalid value encountered in cast\n",
      "  print(np.array([np.nan]).astype(int).astype(float))\n"
     ]
    }
   ],
   "source": [
    "print(np.array(0) / np.array(0))\n",
    "print(np.array(0) // np.array(0))\n",
    "print(np.array([np.nan]).astype(int).astype(float))"
   ]
  },
  {
   "cell_type": "markdown",
   "id": "546f5e7b",
   "metadata": {},
   "source": [
    "#### 29. How to round away from zero a float array ?"
   ]
  },
  {
   "cell_type": "code",
   "execution_count": 174,
   "id": "f725a6d2",
   "metadata": {},
   "outputs": [
    {
     "name": "stdout",
     "output_type": "stream",
     "text": [
      "Original array: [ 1.2  2.7 -3.5 -4.8  5.1]\n",
      "Rounded up (away from zero): [ 2.  3. -3. -4.  6.]\n",
      "Rounded down (away from zero): [ 1.  2. -4. -5.  5.]\n"
     ]
    }
   ],
   "source": [
    "float_array = np.array([1.2, 2.7, -3.5, -4.8, 5.1])\n",
    "\n",
    "rounded_up = np.ceil(float_array)\n",
    "rounded_down = np.floor(float_array)\n",
    "\n",
    "print(\"Original array:\", float_array)\n",
    "print(\"Rounded up (away from zero):\", rounded_up)\n",
    "print(\"Rounded down (away from zero):\", rounded_down)"
   ]
  },
  {
   "cell_type": "markdown",
   "id": "eadca856",
   "metadata": {},
   "source": [
    "#### 30. How to find common values between two arrays?"
   ]
  },
  {
   "cell_type": "code",
   "execution_count": 177,
   "id": "e0270b5b",
   "metadata": {},
   "outputs": [
    {
     "data": {
      "text/plain": [
       "array([3, 4, 5])"
      ]
     },
     "execution_count": 177,
     "metadata": {},
     "output_type": "execute_result"
    }
   ],
   "source": [
    "array1 = np.array([1, 2, 3, 4, 5])\n",
    "array2 = np.array([3, 4, 5, 6, 7])\n",
    "\n",
    "np.intersect1d(array1, array2)"
   ]
  },
  {
   "cell_type": "markdown",
   "id": "ca16ca22",
   "metadata": {},
   "source": [
    "#### 31. How to ignore all numpy warnings (not recommended)?"
   ]
  },
  {
   "cell_type": "code",
   "execution_count": 183,
   "id": "7d7208ef",
   "metadata": {},
   "outputs": [
    {
     "data": {
      "text/plain": [
       "{'divide': 'warn', 'over': 'warn', 'under': 'warn', 'invalid': 'warn'}"
      ]
     },
     "execution_count": 183,
     "metadata": {},
     "output_type": "execute_result"
    }
   ],
   "source": [
    "np.seterr(all='ignore')\n",
    "# np.seterr(all='warn')"
   ]
  },
  {
   "cell_type": "markdown",
   "id": "c7871d0d",
   "metadata": {},
   "source": [
    "#### 32. Is the following expressions true?\n",
    "```python\n",
    "np.sqrt(-1) == np.emath.sqrt(-1)\n",
    "```"
   ]
  },
  {
   "cell_type": "code",
   "execution_count": 185,
   "id": "acc3701a",
   "metadata": {},
   "outputs": [
    {
     "name": "stderr",
     "output_type": "stream",
     "text": [
      "C:\\Users\\mughe\\AppData\\Local\\Temp\\ipykernel_13820\\244602691.py:1: RuntimeWarning: invalid value encountered in sqrt\n",
      "  np.sqrt(-1) == np.emath.sqrt(-1)\n"
     ]
    },
    {
     "data": {
      "text/plain": [
       "False"
      ]
     },
     "execution_count": 185,
     "metadata": {},
     "output_type": "execute_result"
    }
   ],
   "source": [
    "np.sqrt(-1) == np.emath.sqrt(-1)"
   ]
  },
  {
   "cell_type": "code",
   "execution_count": 187,
   "id": "a7aebbd8-1538-471e-a774-23be24f15d0f",
   "metadata": {},
   "outputs": [
    {
     "data": {
      "text/plain": [
       "1j"
      ]
     },
     "execution_count": 187,
     "metadata": {},
     "output_type": "execute_result"
    }
   ],
   "source": [
    "np.emath.sqrt(-1)"
   ]
  },
  {
   "cell_type": "markdown",
   "id": "e0433e30",
   "metadata": {},
   "source": [
    "#### 33. How to get the dates of yesterday, today and tomorrow?"
   ]
  },
  {
   "cell_type": "code",
   "execution_count": 189,
   "id": "9c4d2152",
   "metadata": {},
   "outputs": [
    {
     "name": "stdout",
     "output_type": "stream",
     "text": [
      "Yesterday: 2024-07-04\n",
      "Today: 2024-07-05\n",
      "Tomorrow: 2024-07-06\n"
     ]
    }
   ],
   "source": [
    "today = np.datetime64('today', 'D')\n",
    "yesterday = today - np.timedelta64(1, 'D')\n",
    "tomorrow = today + np.timedelta64(1, 'D')\n",
    "\n",
    "print(\"Yesterday:\", yesterday)\n",
    "print(\"Today:\", today)\n",
    "print(\"Tomorrow:\", tomorrow)"
   ]
  },
  {
   "cell_type": "markdown",
   "id": "9f52a2ef",
   "metadata": {},
   "source": [
    "#### 34. How to get all the dates corresponding to the month of July 2016?"
   ]
  },
  {
   "cell_type": "code",
   "execution_count": 191,
   "id": "d6c34dec",
   "metadata": {},
   "outputs": [
    {
     "name": "stdout",
     "output_type": "stream",
     "text": [
      "Dates in July 2016:\n",
      "['2016-07-01' '2016-07-02' '2016-07-03' '2016-07-04' '2016-07-05'\n",
      " '2016-07-06' '2016-07-07' '2016-07-08' '2016-07-09' '2016-07-10'\n",
      " '2016-07-11' '2016-07-12' '2016-07-13' '2016-07-14' '2016-07-15'\n",
      " '2016-07-16' '2016-07-17' '2016-07-18' '2016-07-19' '2016-07-20'\n",
      " '2016-07-21' '2016-07-22' '2016-07-23' '2016-07-24' '2016-07-25'\n",
      " '2016-07-26' '2016-07-27' '2016-07-28' '2016-07-29' '2016-07-30'\n",
      " '2016-07-31']\n"
     ]
    }
   ],
   "source": [
    "dates_july_2016 = np.arange('2016-07', '2016-08', dtype='datetime64[D]')\n",
    "\n",
    "print(\"Dates in July 2016:\")\n",
    "print(dates_july_2016)"
   ]
  },
  {
   "cell_type": "markdown",
   "id": "4a64e059",
   "metadata": {},
   "source": [
    "#### 35. How to compute ((A+B)*(-A/2)) in place (without copy)?"
   ]
  },
  {
   "cell_type": "code",
   "execution_count": 195,
   "id": "49267f60",
   "metadata": {},
   "outputs": [
    {
     "name": "stdout",
     "output_type": "stream",
     "text": [
      "[ -2.5  -7.  -13.5]\n"
     ]
    }
   ],
   "source": [
    "A = np.array([1, 2, 3], dtype=np.float64)\n",
    "B = np.array([4, 5, 6])\n",
    "\n",
    "result = np.empty_like(A)\n",
    "np.add(A, B, out=result)\n",
    "np.negative(A, out=A)\n",
    "np.divide(A, 2, out=A)\n",
    "np.multiply(result, A, out=result)\n",
    "\n",
    "print(result)"
   ]
  },
  {
   "cell_type": "markdown",
   "id": "8a98c2a8",
   "metadata": {},
   "source": [
    "#### 36. Extract the integer part of a random array of positive numbers using 4 different methods"
   ]
  },
  {
   "cell_type": "code",
   "execution_count": 197,
   "id": "368130b3",
   "metadata": {},
   "outputs": [
    {
     "name": "stdout",
     "output_type": "stream",
     "text": [
      "Original Array:\n",
      " [[3.57171537 8.33848332 6.74531345 8.20322519 1.652237  ]\n",
      " [9.34180336 9.66987497 5.30587675 6.5076282  3.97735923]\n",
      " [3.91423774 5.07084852 2.98966245 6.79817537 1.59592122]\n",
      " [0.47875393 1.03627485 6.44016267 2.08084935 8.81552336]\n",
      " [2.94702281 0.57985114 7.38034757 2.26291763 8.33616426]]\n",
      "\n",
      "Integer Part using np.floor:\n",
      " [[3. 8. 6. 8. 1.]\n",
      " [9. 9. 5. 6. 3.]\n",
      " [3. 5. 2. 6. 1.]\n",
      " [0. 1. 6. 2. 8.]\n",
      " [2. 0. 7. 2. 8.]]\n",
      "\n",
      "Integer Part using astype(int):\n",
      " [[3 8 6 8 1]\n",
      " [9 9 5 6 3]\n",
      " [3 5 2 6 1]\n",
      " [0 1 6 2 8]\n",
      " [2 0 7 2 8]]\n",
      "\n",
      "Integer Part using np.vectorize with int:\n",
      " [[3 8 6 8 1]\n",
      " [9 9 5 6 3]\n",
      " [3 5 2 6 1]\n",
      " [0 1 6 2 8]\n",
      " [2 0 7 2 8]]\n",
      "\n",
      "Integer Part using np.trunc:\n",
      " [[3. 8. 6. 8. 1.]\n",
      " [9. 9. 5. 6. 3.]\n",
      " [3. 5. 2. 6. 1.]\n",
      " [0. 1. 6. 2. 8.]\n",
      " [2. 0. 7. 2. 8.]]\n"
     ]
    }
   ],
   "source": [
    "random_array = np.random.random((5, 5)) * 10\n",
    "\n",
    "integer_part_floor = np.floor(random_array)\n",
    "integer_part_astype = random_array.astype(int)\n",
    "integer_part_vectorize = np.vectorize(int)(random_array)\n",
    "integer_part_trunc = np.trunc(random_array)\n",
    "\n",
    "print(\"Original Array:\\n\", random_array)\n",
    "print(\"\\nInteger Part using np.floor:\\n\", integer_part_floor)\n",
    "print(\"\\nInteger Part using astype(int):\\n\", integer_part_astype)\n",
    "print(\"\\nInteger Part using np.vectorize with int:\\n\", integer_part_vectorize)\n",
    "print(\"\\nInteger Part using np.trunc:\\n\", integer_part_trunc)"
   ]
  },
  {
   "cell_type": "markdown",
   "id": "5a2e3d85",
   "metadata": {},
   "source": [
    "#### 37. Create a 5x5 matrix with row values ranging from 0 to 4"
   ]
  },
  {
   "cell_type": "code",
   "execution_count": 201,
   "id": "1d974e8f",
   "metadata": {},
   "outputs": [
    {
     "name": "stdout",
     "output_type": "stream",
     "text": [
      "[[0 1 2 3 4]\n",
      " [0 1 2 3 4]\n",
      " [0 1 2 3 4]\n",
      " [0 1 2 3 4]\n",
      " [0 1 2 3 4]]\n"
     ]
    }
   ],
   "source": [
    "matrix = np.tile(np.arange(5), (5, 1))\n",
    "\n",
    "print(matrix)"
   ]
  },
  {
   "cell_type": "markdown",
   "id": "9720e2d5",
   "metadata": {},
   "source": [
    "#### 38. Consider a generator function that generates 10 integers and use it to build an array"
   ]
  },
  {
   "cell_type": "code",
   "execution_count": 211,
   "id": "e5dd8fc9",
   "metadata": {},
   "outputs": [
    {
     "name": "stdout",
     "output_type": "stream",
     "text": [
      "[0 1 2 3 4 5 6 7 8 9]\n"
     ]
    }
   ],
   "source": [
    "def gen_func():\n",
    "    for i in range(10):\n",
    "        yield i\n",
    "\n",
    "gen = gen_func()\n",
    "arr = np.fromiter(gen, dtype=int)\n",
    "\n",
    "print(arr)"
   ]
  },
  {
   "cell_type": "markdown",
   "id": "c6f2c912",
   "metadata": {},
   "source": [
    "#### 39. Create a vector of size 10 with values ranging from 0 to 1, both excluded"
   ]
  },
  {
   "cell_type": "code",
   "execution_count": 215,
   "id": "6aaa27d3",
   "metadata": {},
   "outputs": [
    {
     "data": {
      "text/plain": [
       "array([0.08333333, 0.16666667, 0.25      , 0.33333333, 0.41666667,\n",
       "       0.5       , 0.58333333, 0.66666667, 0.75      , 0.83333333])"
      ]
     },
     "execution_count": 215,
     "metadata": {},
     "output_type": "execute_result"
    }
   ],
   "source": [
    "np.linspace(0,1,12,endpoint=False)[1:-1]"
   ]
  },
  {
   "cell_type": "markdown",
   "id": "a36d6ee4",
   "metadata": {},
   "source": [
    "#### 40. Create a random vector of size 10 and sort it"
   ]
  },
  {
   "cell_type": "code",
   "execution_count": 223,
   "id": "e589d216",
   "metadata": {},
   "outputs": [
    {
     "name": "stdout",
     "output_type": "stream",
     "text": [
      "[0.00924038 0.12274579 0.21152721 0.39122828 0.57389803 0.58812342\n",
      " 0.69904221 0.75141422 0.86983338 0.92089961]\n"
     ]
    }
   ],
   "source": [
    "vec = np.sort(np.random.rand(10))\n",
    "print(vec)"
   ]
  },
  {
   "cell_type": "markdown",
   "id": "0fb4ad68",
   "metadata": {},
   "source": [
    "#### 41. How to sum a small array faster than np.sum?"
   ]
  },
  {
   "cell_type": "markdown",
   "id": "fa112a79-2e4d-4da3-a12b-8410181b893f",
   "metadata": {},
   "source": [
    "Using simple python built-in sum function"
   ]
  },
  {
   "cell_type": "code",
   "execution_count": null,
   "id": "b5a751d0-76a9-44d3-bcb3-7d7920962670",
   "metadata": {},
   "outputs": [],
   "source": []
  },
  {
   "cell_type": "markdown",
   "id": "024ac365",
   "metadata": {},
   "source": [
    "#### 42. Consider two random array A and B, check if they are equal"
   ]
  },
  {
   "cell_type": "code",
   "execution_count": 228,
   "id": "7db3846d",
   "metadata": {},
   "outputs": [
    {
     "data": {
      "text/plain": [
       "False"
      ]
     },
     "execution_count": 228,
     "metadata": {},
     "output_type": "execute_result"
    }
   ],
   "source": [
    "arr1 = np.random.rand(10)\n",
    "arr2 = np.random.rand(10)\n",
    "np.array_equal(arr1, arr2)"
   ]
  },
  {
   "cell_type": "markdown",
   "id": "c68d2401",
   "metadata": {},
   "source": [
    "#### 43. Make an array immutable (read-only) "
   ]
  },
  {
   "cell_type": "code",
   "execution_count": 238,
   "id": "7828539d",
   "metadata": {},
   "outputs": [
    {
     "ename": "ValueError",
     "evalue": "assignment destination is read-only",
     "output_type": "error",
     "traceback": [
      "\u001b[1;31m---------------------------------------------------------------------------\u001b[0m",
      "\u001b[1;31mValueError\u001b[0m                                Traceback (most recent call last)",
      "Cell \u001b[1;32mIn[238], line 3\u001b[0m\n\u001b[0;32m      1\u001b[0m arr \u001b[38;5;241m=\u001b[39m np\u001b[38;5;241m.\u001b[39marray([\u001b[38;5;241m1\u001b[39m, \u001b[38;5;241m2\u001b[39m, \u001b[38;5;241m3\u001b[39m, \u001b[38;5;241m4\u001b[39m, \u001b[38;5;241m5\u001b[39m])\n\u001b[0;32m      2\u001b[0m arr\u001b[38;5;241m.\u001b[39mflags\u001b[38;5;241m.\u001b[39mwriteable \u001b[38;5;241m=\u001b[39m \u001b[38;5;28;01mFalse\u001b[39;00m\n\u001b[1;32m----> 3\u001b[0m arr[\u001b[38;5;241m0\u001b[39m] \u001b[38;5;241m=\u001b[39m \u001b[38;5;241m10\u001b[39m\n",
      "\u001b[1;31mValueError\u001b[0m: assignment destination is read-only"
     ]
    }
   ],
   "source": [
    "arr = np.array([1, 2, 3, 4, 5])\n",
    "arr.flags.writeable = False\n",
    "arr[0] = 10  # Uncomment this line to see the error"
   ]
  },
  {
   "cell_type": "markdown",
   "id": "55df6280",
   "metadata": {},
   "source": [
    "#### 44. Consider a random 10x2 matrix representing cartesian coordinates, convert them to polar coordinates"
   ]
  },
  {
   "cell_type": "code",
   "execution_count": 240,
   "id": "f1c86ea0",
   "metadata": {},
   "outputs": [
    {
     "name": "stdout",
     "output_type": "stream",
     "text": [
      "Cartesian Coordinates:\n",
      " [[0.1839557  0.75240444]\n",
      " [0.53893587 0.05941924]\n",
      " [0.79009265 0.8188907 ]\n",
      " [0.54428731 0.08881417]\n",
      " [0.16461229 0.06912514]\n",
      " [0.30890966 0.23984628]\n",
      " [0.8601111  0.52411646]\n",
      " [0.25245728 0.50854167]\n",
      " [0.15604381 0.42387072]\n",
      " [0.97850379 0.69466214]]\n",
      "\n",
      "Polar Coordinates:\n",
      " [[0.77456577 1.33100981]\n",
      " [0.54220155 0.10980939]\n",
      " [1.13790525 0.80329454]\n",
      " [0.55148584 0.16174962]\n",
      " [0.17853709 0.39756588]\n",
      " [0.39109004 0.66020195]\n",
      " [1.00721853 0.54727273]\n",
      " [0.56775814 1.11000574]\n",
      " [0.45168137 1.21805333]\n",
      " [1.20001048 0.61735456]]\n"
     ]
    }
   ],
   "source": [
    "cartesian_coords = np.random.random((10, 2))\n",
    "\n",
    "x = cartesian_coords[:, 0]\n",
    "y = cartesian_coords[:, 1]\n",
    "\n",
    "r = np.sqrt(x**2 + y**2)\n",
    "theta = np.arctan2(y, x)\n",
    "\n",
    "polar_coords = np.column_stack((r, theta))\n",
    "\n",
    "print(\"Cartesian Coordinates:\\n\", cartesian_coords)\n",
    "print(\"\\nPolar Coordinates:\\n\", polar_coords)"
   ]
  },
  {
   "cell_type": "markdown",
   "id": "2f60f1ec",
   "metadata": {},
   "source": [
    "#### 45. Create random vector of size 10 and replace the maximum value by 0"
   ]
  },
  {
   "cell_type": "code",
   "execution_count": 250,
   "id": "d9f48f1c",
   "metadata": {},
   "outputs": [
    {
     "name": "stdout",
     "output_type": "stream",
     "text": [
      "[0.1741699  0.02524246 0.19607972 0.44680041 0.22043107 0.84803371\n",
      " 0.3974871  0.66559183 0.62776258 0.14000208]\n",
      "[0.1741699  0.02524246 0.19607972 0.44680041 0.22043107 0.\n",
      " 0.3974871  0.66559183 0.62776258 0.14000208]\n"
     ]
    }
   ],
   "source": [
    "vec = np.random.rand(10)\n",
    "print(vec)\n",
    "vec[np.argmax(vec)] = 0\n",
    "print(vec)"
   ]
  },
  {
   "cell_type": "markdown",
   "id": "084e8ad4",
   "metadata": {},
   "source": [
    "#### 46. Create a structured array with `x` and `y` coordinates covering the [0,1]x[0,1] area"
   ]
  },
  {
   "cell_type": "code",
   "execution_count": 265,
   "id": "58b47c13",
   "metadata": {},
   "outputs": [
    {
     "name": "stdout",
     "output_type": "stream",
     "text": [
      "[(0.        , 0.        ) (0.11111111, 0.        )\n",
      " (0.22222222, 0.        ) (0.33333333, 0.        )\n",
      " (0.44444444, 0.        ) (0.55555556, 0.        )\n",
      " (0.66666667, 0.        ) (0.77777778, 0.        )\n",
      " (0.88888889, 0.        ) (1.        , 0.        )\n",
      " (0.        , 0.11111111) (0.11111111, 0.11111111)\n",
      " (0.22222222, 0.11111111) (0.33333333, 0.11111111)\n",
      " (0.44444444, 0.11111111) (0.55555556, 0.11111111)\n",
      " (0.66666667, 0.11111111) (0.77777778, 0.11111111)\n",
      " (0.88888889, 0.11111111) (1.        , 0.11111111)\n",
      " (0.        , 0.22222222) (0.11111111, 0.22222222)\n",
      " (0.22222222, 0.22222222) (0.33333333, 0.22222222)\n",
      " (0.44444444, 0.22222222) (0.55555556, 0.22222222)\n",
      " (0.66666667, 0.22222222) (0.77777778, 0.22222222)\n",
      " (0.88888889, 0.22222222) (1.        , 0.22222222)\n",
      " (0.        , 0.33333333) (0.11111111, 0.33333333)\n",
      " (0.22222222, 0.33333333) (0.33333333, 0.33333333)\n",
      " (0.44444444, 0.33333333) (0.55555556, 0.33333333)\n",
      " (0.66666667, 0.33333333) (0.77777778, 0.33333333)\n",
      " (0.88888889, 0.33333333) (1.        , 0.33333333)\n",
      " (0.        , 0.44444444) (0.11111111, 0.44444444)\n",
      " (0.22222222, 0.44444444) (0.33333333, 0.44444444)\n",
      " (0.44444444, 0.44444444) (0.55555556, 0.44444444)\n",
      " (0.66666667, 0.44444444) (0.77777778, 0.44444444)\n",
      " (0.88888889, 0.44444444) (1.        , 0.44444444)\n",
      " (0.        , 0.55555556) (0.11111111, 0.55555556)\n",
      " (0.22222222, 0.55555556) (0.33333333, 0.55555556)\n",
      " (0.44444444, 0.55555556) (0.55555556, 0.55555556)\n",
      " (0.66666667, 0.55555556) (0.77777778, 0.55555556)\n",
      " (0.88888889, 0.55555556) (1.        , 0.55555556)\n",
      " (0.        , 0.66666667) (0.11111111, 0.66666667)\n",
      " (0.22222222, 0.66666667) (0.33333333, 0.66666667)\n",
      " (0.44444444, 0.66666667) (0.55555556, 0.66666667)\n",
      " (0.66666667, 0.66666667) (0.77777778, 0.66666667)\n",
      " (0.88888889, 0.66666667) (1.        , 0.66666667)\n",
      " (0.        , 0.77777778) (0.11111111, 0.77777778)\n",
      " (0.22222222, 0.77777778) (0.33333333, 0.77777778)\n",
      " (0.44444444, 0.77777778) (0.55555556, 0.77777778)\n",
      " (0.66666667, 0.77777778) (0.77777778, 0.77777778)\n",
      " (0.88888889, 0.77777778) (1.        , 0.77777778)\n",
      " (0.        , 0.88888889) (0.11111111, 0.88888889)\n",
      " (0.22222222, 0.88888889) (0.33333333, 0.88888889)\n",
      " (0.44444444, 0.88888889) (0.55555556, 0.88888889)\n",
      " (0.66666667, 0.88888889) (0.77777778, 0.88888889)\n",
      " (0.88888889, 0.88888889) (1.        , 0.88888889)\n",
      " (0.        , 1.        ) (0.11111111, 1.        )\n",
      " (0.22222222, 1.        ) (0.33333333, 1.        )\n",
      " (0.44444444, 1.        ) (0.55555556, 1.        )\n",
      " (0.66666667, 1.        ) (0.77777778, 1.        )\n",
      " (0.88888889, 1.        ) (1.        , 1.        )]\n"
     ]
    }
   ],
   "source": [
    "num_points = 10\n",
    "\n",
    "grid = np.zeros((num_points*num_points,), dtype=[('x', float), ('y', float)])\n",
    "\n",
    "# Generate x and y coordinates\n",
    "x_coords, y_coords = np.meshgrid(np.linspace(0, 1, num_points), np.linspace(0, 1, num_points))\n",
    "\n",
    "grid['x'] = x_coords.ravel()\n",
    "grid['y'] = y_coords.ravel()\n",
    "\n",
    "print(grid)"
   ]
  },
  {
   "cell_type": "markdown",
   "id": "d7b9bc42",
   "metadata": {},
   "source": [
    "#### 47. Given two arrays, X and Y, construct the Cauchy matrix C (Cij =1/(xi - yj))"
   ]
  },
  {
   "cell_type": "code",
   "execution_count": 268,
   "id": "a24824fb",
   "metadata": {},
   "outputs": [
    {
     "name": "stdout",
     "output_type": "stream",
     "text": [
      "Cauchy Matrix C:\n",
      "[[-0.33333333 -0.25      ]\n",
      " [-0.5        -0.33333333]\n",
      " [-1.         -0.5       ]]\n"
     ]
    }
   ],
   "source": [
    "def cauchy_matrix(X, Y):\n",
    "    m = len(X)\n",
    "    n = len(Y)\n",
    "    C = np.zeros((m, n))\n",
    "    for i in range(m):\n",
    "        for j in range(n):\n",
    "            C[i, j] = 1 / (X[i] - Y[j])\n",
    "    return C\n",
    "\n",
    "X = np.array([1, 2, 3])\n",
    "Y = np.array([4, 5])\n",
    "C = cauchy_matrix(X, Y)\n",
    "print(\"Cauchy Matrix C:\")\n",
    "print(C)"
   ]
  },
  {
   "cell_type": "markdown",
   "id": "65ebc11b",
   "metadata": {},
   "source": [
    "#### 48. Print the minimum and maximum representable value for each numpy scalar type"
   ]
  },
  {
   "cell_type": "code",
   "execution_count": 272,
   "id": "e45d38fb",
   "metadata": {},
   "outputs": [
    {
     "name": "stdout",
     "output_type": "stream",
     "text": [
      "bool:\n",
      "  Min: True\n",
      "  Max: False\n",
      "\n",
      "int8:\n",
      "  Min: -128\n",
      "  Max: 127\n",
      "\n",
      "uint8:\n",
      "  Min: 0\n",
      "  Max: 255\n",
      "\n",
      "int16:\n",
      "  Min: -32768\n",
      "  Max: 32767\n",
      "\n",
      "uint16:\n",
      "  Min: 0\n",
      "  Max: 65535\n",
      "\n",
      "int32:\n",
      "  Min: -2147483648\n",
      "  Max: 2147483647\n",
      "\n",
      "uint32:\n",
      "  Min: 0\n",
      "  Max: 4294967295\n",
      "\n",
      "int64:\n",
      "  Min: -9223372036854775808\n",
      "  Max: 9223372036854775807\n",
      "\n",
      "uint64:\n",
      "  Min: 0\n",
      "  Max: 18446744073709551615\n",
      "\n",
      "float16:\n",
      "  Min: -65504.0\n",
      "  Max: 65504.0\n",
      "\n",
      "float32:\n",
      "  Min: -3.4028234663852886e+38\n",
      "  Max: 3.4028234663852886e+38\n",
      "\n",
      "float64:\n",
      "  Min: -1.7976931348623157e+308\n",
      "  Max: 1.7976931348623157e+308\n",
      "\n"
     ]
    }
   ],
   "source": [
    "scalar_types = [\n",
    "    ('bool', bool, np.bool_(True), np.bool_(False)),\n",
    "    ('int8', np.int8, np.iinfo(np.int8).min, np.iinfo(np.int8).max),\n",
    "    ('uint8', np.uint8, np.iinfo(np.uint8).min, np.iinfo(np.uint8).max),\n",
    "    ('int16', np.int16, np.iinfo(np.int16).min, np.iinfo(np.int16).max),\n",
    "    ('uint16', np.uint16, np.iinfo(np.uint16).min, np.iinfo(np.uint16).max),\n",
    "    ('int32', np.int32, np.iinfo(np.int32).min, np.iinfo(np.int32).max),\n",
    "    ('uint32', np.uint32, np.iinfo(np.uint32).min, np.iinfo(np.uint32).max),\n",
    "    ('int64', np.int64, np.iinfo(np.int64).min, np.iinfo(np.int64).max),\n",
    "    ('uint64', np.uint64, np.iinfo(np.uint64).min, np.iinfo(np.uint64).max),\n",
    "    ('float16', np.float16, np.finfo(np.float16).min, np.finfo(np.float16).max),\n",
    "    ('float32', np.float32, np.finfo(np.float32).min, np.finfo(np.float32).max),\n",
    "    ('float64', np.float64, np.finfo(np.float64).min, np.finfo(np.float64).max),\n",
    "]\n",
    "\n",
    "for name, typ, min_val, max_val in scalar_types:\n",
    "    print(f\"{name}:\")\n",
    "    print(f\"  Min: {min_val}\")\n",
    "    print(f\"  Max: {max_val}\")\n",
    "    print()\n"
   ]
  },
  {
   "cell_type": "markdown",
   "id": "9b317a98",
   "metadata": {},
   "source": [
    "#### 49. How to print all the values of an array? "
   ]
  },
  {
   "cell_type": "code",
   "execution_count": 286,
   "id": "309cdeb9",
   "metadata": {},
   "outputs": [
    {
     "name": "stdout",
     "output_type": "stream",
     "text": [
      "7.654006323722163\n",
      "2.9730292990305642\n",
      "9.816860665794403\n",
      "2.5515184835674\n",
      "6.453059331414433\n",
      "4.79995045863202\n",
      "1.0084745335441714\n",
      "4.585181902136473\n",
      "7.666227377929404\n",
      "2.971544726526163\n"
     ]
    }
   ],
   "source": [
    "arr = np.random.rand(10)*10\n",
    "for val in arr: \n",
    "    print(val)\n"
   ]
  },
  {
   "cell_type": "markdown",
   "id": "b580f9d0",
   "metadata": {},
   "source": [
    "#### 50. How to find the closest value (to a given scalar) in a vector?"
   ]
  },
  {
   "cell_type": "code",
   "execution_count": 290,
   "id": "ebfb6714",
   "metadata": {},
   "outputs": [
    {
     "name": "stdout",
     "output_type": "stream",
     "text": [
      "Vector: [3 8 1 6 2]\n",
      "Scalar value: 9\n",
      "Closest value in vector to 9: 8\n"
     ]
    }
   ],
   "source": [
    "vector = np.array([3, 8, 1, 6, 2])\n",
    "scalar_value = 9\n",
    "closest_index = np.argmin(np.abs(vector - scalar_value))\n",
    "closest_value = vector[closest_index]\n",
    "\n",
    "print(f\"Vector: {vector}\")\n",
    "print(f\"Scalar value: {scalar_value}\")\n",
    "print(f\"Closest value in vector to {scalar_value}: {closest_value}\")"
   ]
  },
  {
   "cell_type": "markdown",
   "id": "602e6252",
   "metadata": {},
   "source": [
    "#### 51. Create a structured array representing a position (x,y) and a color (r,g,b)"
   ]
  },
  {
   "cell_type": "code",
   "execution_count": 296,
   "id": "cf002b3a",
   "metadata": {},
   "outputs": [
    {
     "name": "stdout",
     "output_type": "stream",
     "text": [
      "First element:\n",
      "Position: (10.0, 20.0)\n",
      "Color: (255, 0, 0)\n"
     ]
    }
   ],
   "source": [
    "dtype = [('position', [('x', float), ('y', float)]), ('color', [('r', int), ('g', int), ('b', int)])]\n",
    "\n",
    "positions_colors = np.array([\n",
    "    ((10.0, 20.0), (255, 0, 0)),\n",
    "    ((5.5, 15.2), (0, 255, 0)),\n",
    "    ((8.8, 25.3), (0, 0, 255)),\n",
    "], dtype=dtype)\n",
    "\n",
    "print(\"First element:\")\n",
    "print(f\"Position: ({positions_colors['position']['x'][0]}, {positions_colors['position']['y'][0]})\")\n",
    "print(f\"Color: ({positions_colors['color']['r'][0]}, {positions_colors['color']['g'][0]}, {positions_colors['color']['b'][0]})\")"
   ]
  },
  {
   "cell_type": "markdown",
   "id": "78bcd92f",
   "metadata": {},
   "source": [
    "#### 52. Consider a random vector with shape (100,2) representing coordinates, find point by point distances"
   ]
  },
  {
   "cell_type": "code",
   "execution_count": 400,
   "id": "fea7f9a6",
   "metadata": {},
   "outputs": [
    {
     "name": "stdout",
     "output_type": "stream",
     "text": [
      "[1.00338137 0.57136864 0.13342171 0.27438444 0.59528241 0.85366355\n",
      " 1.03272789 0.6228032  0.31211648 0.94456198 0.16026433 0.84713944\n",
      " 0.74764602 0.64107217 1.26244146 0.84320794 0.42226419 0.78571189\n",
      " 0.24041937 0.39893835 0.99888663 0.82777715 0.21760829 0.83983037\n",
      " 0.70277969 1.12532456 0.83645407 0.48087365 0.37091959 0.81134511\n",
      " 0.80458156 0.92452174 1.00836773 0.50433564 0.36400095 0.19980899\n",
      " 0.61929815 1.07271902 0.63570437 0.35863927 0.99815383 0.93897871\n",
      " 0.53607324 0.73906029 0.96901626 0.85346939 0.67588548 0.52276731\n",
      " 1.28162759 0.58862932 0.4651339  0.7770271  0.76082742 0.74855525\n",
      " 0.83642545 0.77303862 0.95097607 0.3909446  0.7523967  0.7103488\n",
      " 0.93724518 1.12868197 0.49735349 0.76243334 0.66624797 0.95355426\n",
      " 1.22325039 0.9904893  0.44976571 0.67985263 0.8729365  0.44367626\n",
      " 0.62952758 0.84988272 1.05540589 0.5363207  0.8477374  0.73329798\n",
      " 0.9232341  1.28598896 1.01519558 0.45758197 0.29560376 0.55831688\n",
      " 0.30490769 0.09998325 1.13476783 0.88358204 1.0808151  1.16146583\n",
      " 0.823811   0.44230526 0.73638119 0.80442672 0.74665334 1.0026482\n",
      " 0.73917041 1.20565908 0.07190136 1.0542337 ]\n"
     ]
    }
   ],
   "source": [
    "coors = np.random.rand(100, 2)\n",
    "x = coors[:, 0]\n",
    "y = coors[:, 1]\n",
    "distances = np.sqrt(x**2+y**2)\n",
    "\n",
    "print(distances)"
   ]
  },
  {
   "cell_type": "markdown",
   "id": "343c5a85",
   "metadata": {},
   "source": [
    "#### 53. How to convert a float (32 bits) array into an integer (32 bits) in place?"
   ]
  },
  {
   "cell_type": "code",
   "execution_count": 305,
   "id": "fc1b687b",
   "metadata": {},
   "outputs": [
    {
     "name": "stdout",
     "output_type": "stream",
     "text": [
      "Integer array (32-bit): [1 2 3 4]\n"
     ]
    }
   ],
   "source": [
    "float_array = np.array([1.5, 2.7, 3.9, 4.2], dtype=np.float32)\n",
    "\n",
    "float_array_view = float_array.view(dtype=np.int32)\n",
    "float_array_view[:] = float_array[:]\n",
    "\n",
    "print(\"Integer array (32-bit):\", float_array_view)"
   ]
  },
  {
   "cell_type": "markdown",
   "id": "a69e1ace",
   "metadata": {},
   "source": [
    "#### 54. How to read the following file?\n",
    "```\n",
    "1, 2, 3, 4, 5\n",
    "6,  ,  , 7, 8\n",
    " ,  , 9,10,11\n",
    "```"
   ]
  },
  {
   "cell_type": "code",
   "execution_count": 390,
   "id": "1c7957d4",
   "metadata": {},
   "outputs": [
    {
     "name": "stdout",
     "output_type": "stream",
     "text": [
      "[[ 1  2  3  4  5]\n",
      " [ 6 -1 -1  7  8]\n",
      " [-1 -1  9 10 11]]\n"
     ]
    }
   ],
   "source": [
    "from io import StringIO\n",
    "\n",
    "s = StringIO('''1, 2, 3, 4, 5\n",
    "\n",
    "                6,  ,  , 7, 8\n",
    "\n",
    "                 ,  , 9,10,11\n",
    "''')\n",
    "Z = np.genfromtxt(s, delimiter=\",\", dtype=np.int32)\n",
    "print(Z)"
   ]
  },
  {
   "cell_type": "markdown",
   "id": "c23bd80d",
   "metadata": {},
   "source": [
    "#### 55. What is the equivalent of enumerate for numpy arrays?"
   ]
  },
  {
   "cell_type": "code",
   "execution_count": 308,
   "id": "d95d9578",
   "metadata": {},
   "outputs": [
    {
     "name": "stdout",
     "output_type": "stream",
     "text": [
      "(0, 0) 1\n",
      "(0, 1) 2\n",
      "(1, 0) 3\n",
      "(1, 1) 4\n"
     ]
    }
   ],
   "source": [
    "arr = np.array([[1, 2], [3, 4]])\n",
    "\n",
    "for index, value in np.ndenumerate(arr):\n",
    "    print(index, value)"
   ]
  },
  {
   "cell_type": "markdown",
   "id": "2153a5ec",
   "metadata": {},
   "source": [
    "#### 56. Generate a generic 2D Gaussian-like array"
   ]
  },
  {
   "cell_type": "code",
   "execution_count": 325,
   "id": "61122d1e",
   "metadata": {},
   "outputs": [
    {
     "name": "stdout",
     "output_type": "stream",
     "text": [
      "[[0.00193045 0.00218476 0.00246639 ... 0.00277737 0.00246639 0.00218476]\n",
      " [0.00218476 0.00247256 0.00279129 ... 0.00314324 0.00279129 0.00247256]\n",
      " [0.00246639 0.00279129 0.00315111 ... 0.00354843 0.00315111 0.00279129]\n",
      " ...\n",
      " [0.00277737 0.00314324 0.00354843 ... 0.00399585 0.00354843 0.00314324]\n",
      " [0.00246639 0.00279129 0.00315111 ... 0.00354843 0.00315111 0.00279129]\n",
      " [0.00218476 0.00247256 0.00279129 ... 0.00314324 0.00279129 0.00247256]]\n"
     ]
    }
   ],
   "source": [
    "def gaussian_2d(shape, amplitude=1.0, center=(0.0, 0.0), sigma=1.0):\n",
    "    x0, y0 = center\n",
    "    x, y = np.meshgrid(np.arange(shape[1]), np.arange(shape[0]))\n",
    "    exponent = -((x - x0)**2 + (y - y0)**2) / (2 * sigma**2)\n",
    "    gaussian = amplitude * np.exp(exponent)\n",
    "    return gaussian\n",
    "\n",
    "shape = (100, 100)\n",
    "amplitude = 1.0\n",
    "center = (shape[0] // 2, shape[1] // 2)\n",
    "sigma = 20.0\n",
    "\n",
    "gaussian_array = gaussian_2d(shape, amplitude, center, sigma)\n",
    "\n",
    "print(gaussian_array)"
   ]
  },
  {
   "cell_type": "markdown",
   "id": "2e76d589",
   "metadata": {},
   "source": [
    "#### 57. How to randomly place p elements in a 2D array?"
   ]
  },
  {
   "cell_type": "code",
   "execution_count": 349,
   "id": "0c2e4fcc",
   "metadata": {},
   "outputs": [
    {
     "name": "stdout",
     "output_type": "stream",
     "text": [
      "Randomly placed array:\n",
      "[[0 0 0 0 0]\n",
      " [0 0 0 0 0]\n",
      " [0 1 0 1 0]\n",
      " [1 1 0 0 1]\n",
      " [0 1 1 0 0]]\n"
     ]
    }
   ],
   "source": [
    "shape = (5, 5)\n",
    "p = 7\n",
    "value = 1\n",
    "\n",
    "arr = np.zeros(shape, dtype=int)\n",
    "\n",
    "total_elements = shape[0] * shape[1]\n",
    "flat_indices = np.random.choice(total_elements, p, replace=False)\n",
    "\n",
    "indices = np.unravel_index(flat_indices, shape)\n",
    "\n",
    "arr[indices] = value\n",
    "\n",
    "print(\"Randomly placed array:\")\n",
    "print(arr)"
   ]
  },
  {
   "cell_type": "markdown",
   "id": "8b3933eb",
   "metadata": {},
   "source": [
    "#### 58. Subtract the mean of each row of a matrix"
   ]
  },
  {
   "cell_type": "code",
   "execution_count": 361,
   "id": "a306c9ef",
   "metadata": {},
   "outputs": [
    {
     "name": "stdout",
     "output_type": "stream",
     "text": [
      "[[ 0.18893656  0.05705126 -0.27490413  0.25510135 -0.22618505]\n",
      " [-0.36815234 -0.10865586  0.01995092  0.39438054  0.06247675]\n",
      " [-0.38227285 -0.34942356  0.385915    0.39987118 -0.05408977]\n",
      " [ 0.07433946  0.09447867 -0.10605082 -0.14098947  0.07822216]\n",
      " [ 0.47473899  0.11962451 -0.15480174 -0.28833302 -0.15122874]]\n"
     ]
    }
   ],
   "source": [
    "X = np.random.rand(5, 5)\n",
    "\n",
    "Y = X - X.mean(axis=1, keepdims=True)\n",
    "\n",
    "print(Y)"
   ]
  },
  {
   "cell_type": "markdown",
   "id": "ea8807c0",
   "metadata": {},
   "source": [
    "#### 59. How to sort an array by the nth column?"
   ]
  },
  {
   "cell_type": "code",
   "execution_count": 373,
   "id": "cc89a699",
   "metadata": {},
   "outputs": [
    {
     "name": "stdout",
     "output_type": "stream",
     "text": [
      "Original array:\n",
      "[[5 3 2]\n",
      " [2 2 6]\n",
      " [0 3 9]]\n",
      "\n",
      "Sorted array by the nth column:\n",
      "[[2 2 6]\n",
      " [5 3 2]\n",
      " [0 3 9]]\n"
     ]
    }
   ],
   "source": [
    "arr = np.random.randint(0,10,(3,3))\n",
    "n = 1\n",
    "sorted_arr = arr[np.argsort(arr[:, n])]\n",
    "\n",
    "print(\"Original array:\")\n",
    "print(arr)\n",
    "print(\"\\nSorted array by the nth column:\")\n",
    "print(sorted_arr)"
   ]
  },
  {
   "cell_type": "markdown",
   "id": "00fa00a1",
   "metadata": {},
   "source": [
    "#### 60. How to tell if a given 2D array has null columns?"
   ]
  },
  {
   "cell_type": "code",
   "execution_count": 392,
   "id": "3436e165",
   "metadata": {},
   "outputs": [
    {
     "name": "stdout",
     "output_type": "stream",
     "text": [
      "False\n"
     ]
    }
   ],
   "source": [
    "import numpy as np\n",
    "\n",
    "def has_null_columns(arr):\n",
    "    return np.any(np.all(arr == 0, axis=0))\n",
    "\n",
    "arr = np.random.randint(0,10,(3,3))\n",
    "print(has_null_columns(arr))"
   ]
  },
  {
   "cell_type": "markdown",
   "id": "5a65c7a2",
   "metadata": {},
   "source": [
    "#### 61. Find the nearest value from a given value in an array"
   ]
  },
  {
   "cell_type": "code",
   "execution_count": 402,
   "id": "73f149d6",
   "metadata": {},
   "outputs": [
    {
     "name": "stdout",
     "output_type": "stream",
     "text": [
      "Array: [17 32 28 23 86 78  5 12 57  7]\n",
      "Nearest value: 32\n"
     ]
    }
   ],
   "source": [
    "arr = np.random.randint(0, 100, size=10)\n",
    "given_value = 40\n",
    "nearest_value = arr[np.abs(arr - given_value).argmin()]\n",
    "\n",
    "print(\"Array:\", arr)\n",
    "print(\"Nearest value:\", nearest_value)"
   ]
  },
  {
   "cell_type": "markdown",
   "id": "dd83e8af",
   "metadata": {},
   "source": [
    "#### 62. Considering two arrays with shape (1,3) and (3,1), how to compute their sum using an iterator?"
   ]
  },
  {
   "cell_type": "code",
   "execution_count": 407,
   "id": "29a709a1",
   "metadata": {},
   "outputs": [
    {
     "name": "stdout",
     "output_type": "stream",
     "text": [
      "Array 1:\n",
      "[[1 2 3]]\n",
      "\n",
      "Array 2:\n",
      "[[1]\n",
      " [2]\n",
      " [3]]\n",
      "\n",
      "Sum computed with iterator: 12\n"
     ]
    },
    {
     "name": "stderr",
     "output_type": "stream",
     "text": [
      "C:\\Users\\mughe\\AppData\\Local\\Temp\\ipykernel_13820\\3305426672.py:8: DeprecationWarning: Calling np.sum(generator) is deprecated, and in the future will give a different result. Use np.sum(np.fromiter(generator)) or the python sum builtin instead.\n",
      "  iterator_sum = sum(x + y for x, y in zip(arr1.flat, arr2.flat))\n"
     ]
    }
   ],
   "source": [
    "\n",
    "\n",
    "# Example arrays\n",
    "arr1 = np.array([[1, 2, 3]])  # Shape (1, 3)\n",
    "arr2 = np.array([[1],\n",
    "                 [2],\n",
    "                 [3]])           # Shape (3, 1)\n",
    "\n",
    "# Compute sum using an iterator\n",
    "iterator_sum = sum(x + y for x, y in zip(arr1.flat, arr2.flat))\n",
    "\n",
    "print(\"Array 1:\")\n",
    "print(arr1)\n",
    "print(\"\\nArray 2:\")\n",
    "print(arr2)\n",
    "print(\"\\nSum computed with iterator:\", iterator_sum)\n"
   ]
  },
  {
   "cell_type": "code",
   "execution_count": 415,
   "id": "faecd8bb-f98e-40bf-aff9-7890439bb6ab",
   "metadata": {},
   "outputs": [
    {
     "name": "stdout",
     "output_type": "stream",
     "text": [
      "[[0 1 2]\n",
      " [1 2 3]\n",
      " [2 3 4]]\n"
     ]
    }
   ],
   "source": [
    "A = np.arange(3).reshape(3,1)\n",
    "B = np.arange(3).reshape(1,3)\n",
    "iter = np.nditer([A,B,None])\n",
    "for x,y,z in iter: \n",
    "    z[...] = x + y\n",
    "print(iter.operands[2])"
   ]
  },
  {
   "cell_type": "markdown",
   "id": "6c042efa",
   "metadata": {},
   "source": [
    "#### 63. Create an array class that has a name attribute"
   ]
  },
  {
   "cell_type": "code",
   "execution_count": 427,
   "id": "8c3cb996-56ce-401a-8072-172ccd66aad2",
   "metadata": {},
   "outputs": [
    {
     "name": "stdout",
     "output_type": "stream",
     "text": [
      "Example Array\n",
      "[[1 2 3]\n",
      " [4 5 6]]\n"
     ]
    }
   ],
   "source": [
    "import numpy as np\n",
    "\n",
    "class NamedArray:\n",
    "    def __init__(self, name, array):\n",
    "        self.name = name\n",
    "        self.array = np.array(array)\n",
    "\n",
    "# Example usage:\n",
    "arr = NamedArray(\"Example Array\", [[1, 2, 3], [4, 5, 6]])\n",
    "\n",
    "print(arr.name)\n",
    "print(arr.array)"
   ]
  },
  {
   "cell_type": "markdown",
   "id": "0a075c3d",
   "metadata": {},
   "source": [
    "#### 64. Consider a given vector, how to add 1 to each element indexed by a second vector (be careful with repeated indices)?"
   ]
  },
  {
   "cell_type": "code",
   "execution_count": 470,
   "id": "36c50470",
   "metadata": {},
   "outputs": [
    {
     "name": "stdout",
     "output_type": "stream",
     "text": [
      "[ 5.  9.  1.  5. 13.  9.  9. 17.  9. 13.]\n"
     ]
    }
   ],
   "source": [
    "arr = np.ones(10)*10\n",
    "idx = np.random.randint(0,len(Z),10)\n",
    "\n",
    "np.add.at(arr, idx, 1)\n",
    "print(Z)"
   ]
  },
  {
   "cell_type": "markdown",
   "id": "0fb2f0c5",
   "metadata": {},
   "source": [
    "#### 65. How to accumulate elements of a vector (X) to an array (F) based on an index list (I)?"
   ]
  },
  {
   "cell_type": "code",
   "execution_count": 480,
   "id": "58aa5f82",
   "metadata": {},
   "outputs": [
    {
     "data": {
      "text/plain": [
       "array([1., 6., 3., 5., 0.])"
      ]
     },
     "execution_count": 480,
     "metadata": {},
     "output_type": "execute_result"
    }
   ],
   "source": [
    "X = np.array([1, 2, 3, 4, 5])\n",
    "I = np.array([0, 1, 2, 1, 3])\n",
    "F = np.zeros(5)\n",
    "\n",
    "np.add.at(F, I, X)\n",
    "\n",
    "F"
   ]
  },
  {
   "cell_type": "markdown",
   "id": "d89dc506",
   "metadata": {},
   "source": [
    "#### 66. Considering a (w,h,3) image of (dtype=ubyte), compute the number of unique colors"
   ]
  },
  {
   "cell_type": "code",
   "execution_count": 490,
   "id": "8fb43a49",
   "metadata": {},
   "outputs": [
    {
     "data": {
      "text/plain": [
       "64"
      ]
     },
     "execution_count": 490,
     "metadata": {},
     "output_type": "execute_result"
    }
   ],
   "source": [
    "w, h = 128, 128\n",
    "\n",
    "I = np.random.randint(0, 4, (w, h, 3)).astype(np.ubyte)\n",
    "colors = np.unique(I.reshape(-1, 3), axis=0)\n",
    "\n",
    "n = len(colors)\n",
    "n"
   ]
  },
  {
   "cell_type": "markdown",
   "id": "535a5d81",
   "metadata": {},
   "source": [
    "#### 67. Considering a four dimensions array, how to get sum over the last two axis at once?"
   ]
  },
  {
   "cell_type": "code",
   "execution_count": 500,
   "id": "f954ab9d",
   "metadata": {},
   "outputs": [
    {
     "data": {
      "text/plain": [
       "array([[66, 56, 76, 60],\n",
       "       [24, 59, 57, 34],\n",
       "       [49, 48, 46, 34]])"
      ]
     },
     "execution_count": 500,
     "metadata": {},
     "output_type": "execute_result"
    }
   ],
   "source": [
    "A = np.random.randint(0,10,(3,4,3,4))\n",
    "np.sum(A, axis=(2,-1))"
   ]
  },
  {
   "cell_type": "markdown",
   "id": "eee66d3c",
   "metadata": {},
   "source": [
    "#### 68. Considering a one-dimensional vector D, how to compute means of subsets of D using a vector S of same size describing subset  indices?"
   ]
  },
  {
   "cell_type": "code",
   "execution_count": 504,
   "id": "8929773a",
   "metadata": {},
   "outputs": [
    {
     "name": "stdout",
     "output_type": "stream",
     "text": [
      "[0.39770355 0.44456438 0.59233556 0.38477115 0.64002761 0.58322761\n",
      " 0.67668288 0.49234392 0.45931683 0.49012336]\n"
     ]
    }
   ],
   "source": [
    "D = np.random.uniform(0,1,100)\n",
    "S = np.random.randint(0,10,100)\n",
    "\n",
    "subset_sums = np.bincount(S, weights=D)\n",
    "subset_counts = np.bincount(S)\n",
    "subset_means = subset_sums / subset_counts\n",
    "\n",
    "print(subset_means)"
   ]
  },
  {
   "cell_type": "markdown",
   "id": "f90d4c40",
   "metadata": {},
   "source": [
    "#### 69. How to get the diagonal of a dot product?"
   ]
  },
  {
   "cell_type": "code",
   "execution_count": 506,
   "id": "b47d392d",
   "metadata": {},
   "outputs": [
    {
     "data": {
      "text/plain": [
       "array([0.90863098, 1.05123202, 1.89799675, 0.9385121 , 1.57520057])"
      ]
     },
     "execution_count": 506,
     "metadata": {},
     "output_type": "execute_result"
    }
   ],
   "source": [
    "A = np.random.uniform(0,1,(5,5))\n",
    "B = np.random.uniform(0,1,(5,5))\n",
    "\n",
    "np.diag(np.dot(A, B))"
   ]
  },
  {
   "cell_type": "markdown",
   "id": "a8a97e7d",
   "metadata": {},
   "source": [
    "#### 70. Consider the vector [1, 2, 3, 4, 5], how to build a new vector with 3 consecutive zeros interleaved between each value?"
   ]
  },
  {
   "cell_type": "code",
   "execution_count": 510,
   "id": "ee6c6c37",
   "metadata": {},
   "outputs": [
    {
     "name": "stdout",
     "output_type": "stream",
     "text": [
      "[1. 0. 0. 0. 2. 0. 0. 0. 3. 0. 0. 0. 4. 0. 0. 0. 5.]\n"
     ]
    }
   ],
   "source": [
    "vec = np.array([1, 2, 3, 4, 5])\n",
    "\n",
    "num_zeros = 3\n",
    "new_length = len(vec) + (len(vec) - 1) * num_zeros\n",
    "new_vec = np.zeros(new_length)\n",
    "new_vec[::num_zeros + 1] = vec\n",
    "\n",
    "print(new_vec)"
   ]
  },
  {
   "cell_type": "markdown",
   "id": "d6a30d60",
   "metadata": {},
   "source": [
    "#### 71. Consider an array of dimension (5,5,3), how to mulitply it by an array with dimensions (5,5)?"
   ]
  },
  {
   "cell_type": "code",
   "execution_count": 518,
   "id": "e9703f2e",
   "metadata": {},
   "outputs": [
    {
     "name": "stdout",
     "output_type": "stream",
     "text": [
      "[[[2. 2. 2.]\n",
      "  [8. 8. 8.]\n",
      "  [7. 7. 7.]\n",
      "  [4. 4. 4.]\n",
      "  [2. 2. 2.]]\n",
      "\n",
      " [[6. 6. 6.]\n",
      "  [6. 6. 6.]\n",
      "  [2. 2. 2.]\n",
      "  [7. 7. 7.]\n",
      "  [6. 6. 6.]]\n",
      "\n",
      " [[9. 9. 9.]\n",
      "  [9. 9. 9.]\n",
      "  [2. 2. 2.]\n",
      "  [5. 5. 5.]\n",
      "  [2. 2. 2.]]\n",
      "\n",
      " [[5. 5. 5.]\n",
      "  [3. 3. 3.]\n",
      "  [2. 2. 2.]\n",
      "  [2. 2. 2.]\n",
      "  [5. 5. 5.]]\n",
      "\n",
      " [[2. 2. 2.]\n",
      "  [2. 2. 2.]\n",
      "  [2. 2. 2.]\n",
      "  [7. 7. 7.]\n",
      "  [7. 7. 7.]]]\n"
     ]
    }
   ],
   "source": [
    "A = np.ones((5,5,3))\n",
    "B = np.random.randint(2,10,(5,5))\n",
    "print(A * B[:,:,None])"
   ]
  },
  {
   "cell_type": "markdown",
   "id": "bac359a9",
   "metadata": {},
   "source": [
    "#### 72. How to swap two rows of an array?"
   ]
  },
  {
   "cell_type": "code",
   "execution_count": 532,
   "id": "f1b432b1",
   "metadata": {},
   "outputs": [
    {
     "data": {
      "text/plain": [
       "array([[3, 4, 5],\n",
       "       [0, 1, 2],\n",
       "       [6, 7, 8]])"
      ]
     },
     "execution_count": 532,
     "metadata": {},
     "output_type": "execute_result"
    }
   ],
   "source": [
    "arr = np.arange(9).reshape(3,3)\n",
    "arr[[0,1]] = arr[[1,0]]\n",
    "arr"
   ]
  },
  {
   "cell_type": "markdown",
   "id": "620c9f83",
   "metadata": {},
   "source": [
    "#### 73. Consider a set of 10 triplets describing 10 triangles (with shared vertices), find the set of unique line segments composing all the  triangles"
   ]
  },
  {
   "cell_type": "code",
   "execution_count": 568,
   "id": "4e595ffc",
   "metadata": {},
   "outputs": [
    {
     "name": "stdout",
     "output_type": "stream",
     "text": [
      "[( 3, 24) ( 3, 96) ( 7, 20) ( 7, 70) (10, 24) (10, 73) (16, 22) (16, 56)\n",
      " (20, 70) (22, 56) (23, 52) (23, 71) (24, 73) (24, 96) (25, 48) (25, 99)\n",
      " (28, 31) (28, 35) (31, 34) (31, 35) (31, 44) (31, 72) (31, 73) (34, 44)\n",
      " (42, 64) (42, 81) (48, 99) (52, 71) (64, 81) (72, 73)]\n"
     ]
    }
   ],
   "source": [
    "faces = np.random.randint(0,100,(10,3))\n",
    "F = np.roll(faces.repeat(2,axis=1),-1,axis=1)\n",
    "F = F.reshape(len(F)*3,2)\n",
    "F = np.sort(F,axis=1)\n",
    "G = F.view( dtype=[('p0',F.dtype),('p1',F.dtype)] )\n",
    "G = np.unique(G)\n",
    "print(G)"
   ]
  },
  {
   "cell_type": "markdown",
   "id": "a76c55a2",
   "metadata": {},
   "source": [
    "#### 74. Given a sorted array C that corresponds to a bincount, how to produce an array A such that np.bincount(A) == C?"
   ]
  },
  {
   "cell_type": "code",
   "execution_count": 570,
   "id": "2d2ae65a",
   "metadata": {},
   "outputs": [
    {
     "name": "stdout",
     "output_type": "stream",
     "text": [
      "[1 1 2 3 4 4 6]\n"
     ]
    }
   ],
   "source": [
    "C = np.bincount([1,1,2,3,4,4,6])\n",
    "A = np.repeat(np.arange(len(C)), C)\n",
    "print(A)"
   ]
  },
  {
   "cell_type": "markdown",
   "id": "d550c8e2",
   "metadata": {},
   "source": [
    "#### 75. How to compute averages using a sliding window over an array?"
   ]
  },
  {
   "cell_type": "code",
   "execution_count": 572,
   "id": "841c457c",
   "metadata": {},
   "outputs": [
    {
     "data": {
      "text/plain": [
       "array([2., 3., 4., 5., 6., 7., 8.])"
      ]
     },
     "execution_count": 572,
     "metadata": {},
     "output_type": "execute_result"
    }
   ],
   "source": [
    "arr = np.array([1, 2, 3, 4, 5, 6, 7, 8, 9])\n",
    "window_size = 3\n",
    "cum_sum = np.insert(np.cumsum(arr), 0, 0)  # Insert 0 at the beginning for correct subtraction\n",
    "averages = (cum_sum[window_size:] - cum_sum[:-window_size]) / window_size\n",
    "averages"
   ]
  },
  {
   "cell_type": "markdown",
   "id": "6b170b00",
   "metadata": {},
   "source": [
    "#### 76. Consider a one-dimensional array Z, build a two-dimensional array whose first row is (Z[0],Z[1],Z[2]) and each subsequent row is  shifted by 1 (last row should be (Z[-3],Z[-2],Z[-1])"
   ]
  },
  {
   "cell_type": "code",
   "execution_count": 694,
   "id": "d9a0cf4e",
   "metadata": {},
   "outputs": [
    {
     "name": "stdout",
     "output_type": "stream",
     "text": [
      "[[1 2 3]\n",
      " [2 3 4]\n",
      " [3 4 5]\n",
      " [4 5 6]\n",
      " [5 6 7]\n",
      " [6 7 8]\n",
      " [7 8 9]]\n"
     ]
    }
   ],
   "source": [
    "def sliding_window(arr, window_size):\n",
    "    result = []\n",
    "    for i in range(len(arr) - window_size + 1):\n",
    "        row = arr[i:i + window_size]\n",
    "        result.append(row)\n",
    "    return np.array(result)\n",
    "\n",
    "# Example usage:\n",
    "Z = np.array([1, 2, 3, 4, 5, 6, 7, 8, 9])\n",
    "window_size = 3\n",
    "\n",
    "result = sliding_window(Z, window_size)\n",
    "print(result)\n"
   ]
  },
  {
   "cell_type": "markdown",
   "id": "e94a5c1d",
   "metadata": {},
   "source": [
    "#### 77. How to negate a boolean, or to change the sign of a float inplace?"
   ]
  },
  {
   "cell_type": "code",
   "execution_count": 602,
   "id": "c0f9504f",
   "metadata": {},
   "outputs": [
    {
     "data": {
      "text/plain": [
       "'n_bool = array([False,  True, False,  True]), n_float = array([-1. ,  2. , -3.5,  4.2])'"
      ]
     },
     "execution_count": 602,
     "metadata": {},
     "output_type": "execute_result"
    }
   ],
   "source": [
    "bool_array = np.array([True, False, True, False])\n",
    "n_bool = np.logical_not(bool_array, out=bool_array)\n",
    "\n",
    "float_array = np.array([1.0, -2.0, 3.5, -4.2])\n",
    "n_float = np.negative(float_array, out=float_array)\n",
    "\n",
    "f\"{n_bool = }, {n_float = }\""
   ]
  },
  {
   "cell_type": "markdown",
   "id": "4eb8b5c1",
   "metadata": {},
   "source": [
    "#### 78. Consider 2 sets of points P0,P1 describing lines (2d) and a point p, how to compute distance from p to each line i (P0[i],P1[i])?"
   ]
  },
  {
   "cell_type": "code",
   "execution_count": 630,
   "id": "487f47ec",
   "metadata": {},
   "outputs": [
    {
     "data": {
      "text/plain": [
       "array([ 5.79057183,  2.50134208, 12.4473279 ,  1.29586514, 13.57190462,\n",
       "       14.83957534,  4.95141751,  4.64867324,  8.26270585,  4.66039468])"
      ]
     },
     "execution_count": 630,
     "metadata": {},
     "output_type": "execute_result"
    }
   ],
   "source": [
    "def distance_point_to_line(P0, P1, p):\n",
    "    x0, y0 = p[...,0], p[..., 1]\n",
    "    \n",
    "    x1, y1 = P0[:, 0], P0[:, 1]\n",
    "    x2, y2 = P1[:, 0], P1[:, 1]\n",
    "\n",
    "    numerator = np.abs((y2 - y1) * x0 - (x2 - x1) * y0 + x2 * y1 - y2 * x1)\n",
    "    denominator = np.sqrt((y2 - y1)**2 + (x2 - x1)**2)\n",
    "    distance = numerator / denominator\n",
    "    \n",
    "    return distance\n",
    "P0 = np.random.uniform(-10,10,(10,2))\n",
    "P1 = np.random.uniform(-10,10,(10,2))\n",
    "p  = np.random.uniform(-10,10,( 1,2))\n",
    "\n",
    "distances = distance_point_to_line(P0, P1, p)\n",
    "distances"
   ]
  },
  {
   "cell_type": "markdown",
   "id": "3df99948",
   "metadata": {},
   "source": [
    "#### 79. Consider 2 sets of points P0,P1 describing lines (2d) and a set of points P, how to compute distance from each point j (P[j]) to each line i (P0[i],P1[i])?"
   ]
  },
  {
   "cell_type": "code",
   "execution_count": 638,
   "id": "dc2df37b",
   "metadata": {},
   "outputs": [
    {
     "data": {
      "text/plain": [
       "(array([[ 3.38687855, -7.6582394 ],\n",
       "        [-1.81423831, -5.33077855],\n",
       "        [ 5.7564134 ,  5.29029903],\n",
       "        [ 9.72152219, -8.23038126],\n",
       "        [-2.91117273, -0.5049212 ],\n",
       "        [ 1.29824826,  6.59823472],\n",
       "        [-9.38160603,  5.20943903],\n",
       "        [-9.00390936, -9.89213166],\n",
       "        [ 3.02592787, -4.38375275],\n",
       "        [ 6.84271051, -2.56786221]]),\n",
       " [array([ 6.40252499,  6.74249146,  4.65314685,  5.14741173, 11.49620145,\n",
       "          9.79577637, 13.76199293,  3.87643495,  4.26151448,  7.1827726 ]),\n",
       "  array([ 9.25864829,  1.11572928,  0.11201856,  0.19095641,  6.92286373,\n",
       "          6.24495455, 12.2172209 ,  1.77927322,  0.09169454,  7.87253664]),\n",
       "  array([ 3.09523427,  1.63807353,  4.97248304,  2.25288549,  1.35957315,\n",
       "          2.15294475,  0.60638537,  0.78381564, 10.12405206,  5.13175377]),\n",
       "  array([ 1.60012098, 12.35711403,  8.5515767 , 10.06120259, 15.09258074,\n",
       "         11.92936134, 13.40501466,  9.59591921, 10.18999958,  4.40452642]),\n",
       "  array([7.32462599, 2.44376297, 4.76739968, 4.3594177 , 2.17685704,\n",
       "         1.29800821, 7.60270058, 5.21150543, 0.19062808, 4.30457683]),\n",
       "  array([0.24509612, 2.80886843, 8.47841321, 6.34647238, 1.96115535,\n",
       "         4.53119188, 0.03799705, 5.27670604, 6.20241736, 3.95197018]),\n",
       "  array([ 9.22845276, 10.98665934, 13.06920938, 12.97908079,  5.9715485 ,\n",
       "          5.84923469,  2.89212654, 13.70368951,  4.44437058,  2.74796048]),\n",
       "  array([17.75804166,  2.40460805,  0.14881976,  2.11076567,  7.38644621,\n",
       "          8.86952394, 17.77749206,  5.57893266,  8.26332052, 15.48938394]),\n",
       "  array([ 4.77934968,  4.64809753,  1.70109727,  2.59205258,  8.46333367,\n",
       "          6.53471425, 10.57504694,  1.8758018 ,  4.82143904,  4.56401659]),\n",
       "  array([0.62160706, 6.84841759, 2.23059221, 4.03626963, 8.745502  ,\n",
       "         5.72787662, 8.22239728, 4.20577464, 8.99181268, 1.03922415])])"
      ]
     },
     "execution_count": 638,
     "metadata": {},
     "output_type": "execute_result"
    }
   ],
   "source": [
    "# using the function from above problem\n",
    "P0 = np.random.uniform(-10,10,(10,2))\n",
    "P1 = np.random.uniform(-10,10,(10,2))\n",
    "p  = np.random.uniform(-10,10,(10,2))\n",
    "\n",
    "distances = [distance_point_to_line(P0,P1,x) for x in p] \n",
    "\n",
    "p, distances"
   ]
  },
  {
   "cell_type": "markdown",
   "id": "11e972c2",
   "metadata": {},
   "source": [
    "#### 80. Consider an arbitrary array, write a function that extract a subpart with a fixed shape and centered on a given element (pad with a `fill` value when necessary)"
   ]
  },
  {
   "cell_type": "code",
   "execution_count": 690,
   "id": "0291247f",
   "metadata": {},
   "outputs": [
    {
     "name": "stdout",
     "output_type": "stream",
     "text": [
      "Extracted Subpart:\n",
      "[[0.         0.         0.         0.         0.         0.\n",
      "  0.        ]\n",
      " [0.         0.         0.         0.         0.         0.\n",
      "  0.        ]\n",
      " [0.         0.         6.88220552 9.77261083 7.78238723 2.81389768\n",
      "  3.17711617]\n",
      " [0.         0.         9.06885815 6.51705899 4.73349656 3.3925957\n",
      "  4.94854901]\n",
      " [0.         0.         4.79909894 1.06949073 4.0376836  8.37095982\n",
      "  6.61420402]\n",
      " [0.         0.         3.9596053  9.53330933 7.34078395 1.48454854\n",
      "  4.05598222]\n",
      " [0.         0.         0.65861299 2.41031466 3.41146271 4.10991246\n",
      "  4.11126532]]\n"
     ]
    },
    {
     "data": {
      "text/plain": [
       "array([[6.88220552, 9.77261083, 7.78238723, 2.81389768, 3.17711617],\n",
       "       [9.06885815, 6.51705899, 4.73349656, 3.3925957 , 4.94854901],\n",
       "       [4.79909894, 1.06949073, 4.0376836 , 8.37095982, 6.61420402],\n",
       "       [3.9596053 , 9.53330933, 7.34078395, 1.48454854, 4.05598222],\n",
       "       [0.65861299, 2.41031466, 3.41146271, 4.10991246, 4.11126532]])"
      ]
     },
     "execution_count": 690,
     "metadata": {},
     "output_type": "execute_result"
    }
   ],
   "source": [
    "def extract_centered_subpart(arr, center, shape, fill_value=0):\n",
    "    half_height = shape[0]\n",
    "    half_width = shape[1]\n",
    "    \n",
    "    start_row = center[0] - half_height\n",
    "    end_row = center[0] + half_height + 1\n",
    "    start_col = center[1] - half_width\n",
    "    end_col = center[1] + half_width + 1\n",
    "    \n",
    "    pad_top = max(0 - start_row, 0)\n",
    "    pad_bottom = max(end_row - arr.shape[0], 0)\n",
    "    pad_left = max(0 - start_col, 0)\n",
    "    pad_right = max(end_col - arr.shape[1], 0)\n",
    "    \n",
    "    padded_arr = np.pad(arr, ((pad_top, pad_bottom), (pad_left, pad_right)), mode='constant', constant_values=fill_value)\n",
    "    \n",
    "    start_row += pad_top\n",
    "    end_row += pad_top\n",
    "    start_col += pad_left\n",
    "    end_col += pad_left\n",
    "\n",
    "    subpart = padded_arr[start_row:end_row, start_col:end_col]\n",
    "    \n",
    "    return subpart\n",
    "\n",
    "arr = np.random.uniform(0,10,(5,5))\n",
    "\n",
    "center = (1, 1)\n",
    "shape = (3, 3)\n",
    "\n",
    "subpart = extract_centered_subpart(arr, center, shape)\n",
    "print(\"Extracted Subpart:\")\n",
    "print(subpart)\n",
    "arr"
   ]
  },
  {
   "cell_type": "markdown",
   "id": "93cfeab3",
   "metadata": {},
   "source": [
    "#### 81. Consider an array Z = [1,2,3,4,5,6,7,8,9,10,11,12,13,14], how to generate an array R = [[1,2,3,4], [2,3,4,5], [3,4,5,6], ..., [11,12,13,14]]?"
   ]
  },
  {
   "cell_type": "code",
   "execution_count": 714,
   "id": "360de791",
   "metadata": {},
   "outputs": [
    {
     "data": {
      "text/plain": [
       "array([[ 0,  1,  2,  3],\n",
       "       [ 1,  2,  3,  4],\n",
       "       [ 2,  3,  4,  5],\n",
       "       [ 3,  4,  5,  6],\n",
       "       [ 4,  5,  6,  7],\n",
       "       [ 5,  6,  7,  8],\n",
       "       [ 6,  7,  8,  9],\n",
       "       [ 7,  8,  9, 10],\n",
       "       [ 8,  9, 10, 11],\n",
       "       [ 9, 10, 11, 12],\n",
       "       [10, 11, 12, 13],\n",
       "       [11, 12, 13, 14]])"
      ]
     },
     "execution_count": 714,
     "metadata": {},
     "output_type": "execute_result"
    }
   ],
   "source": [
    "# using func from problem-76\n",
    "Z = np.arange(0,15)\n",
    "sliding_window(Z, 4)"
   ]
  },
  {
   "cell_type": "markdown",
   "id": "4c15ceff",
   "metadata": {},
   "source": [
    "#### 82. Compute a matrix rank (★★★)"
   ]
  },
  {
   "cell_type": "code",
   "execution_count": 722,
   "id": "9a4272d2",
   "metadata": {},
   "outputs": [
    {
     "name": "stdout",
     "output_type": "stream",
     "text": [
      "10\n"
     ]
    },
    {
     "data": {
      "text/plain": [
       "(None,\n",
       " array([[0.45731996, 5.82009587, 4.85695027, 5.61813032, 7.31591074,\n",
       "         5.20044075, 0.89194647, 2.49441672, 3.78177006, 5.4697502 ],\n",
       "        [9.74598213, 4.20643532, 5.8773694 , 1.37652694, 2.62425169,\n",
       "         6.49477992, 8.47627316, 2.02627433, 1.3109765 , 9.96792456],\n",
       "        [9.13937776, 9.29757973, 1.28839885, 9.44974477, 2.57644456,\n",
       "         2.58903288, 8.33645457, 9.54781812, 9.70062453, 5.92750168],\n",
       "        [9.8294258 , 1.6430613 , 5.06657796, 4.89161941, 5.92324573,\n",
       "         8.71953029, 7.68289587, 3.78796678, 5.67234737, 7.33595285],\n",
       "        [2.43203256, 6.64416688, 5.95904232, 4.80752806, 2.08473108,\n",
       "         8.26674198, 1.46022329, 4.91267819, 5.30065066, 2.41058064],\n",
       "        [1.49614393, 1.60699968, 6.03248031, 6.2399667 , 4.63186752,\n",
       "         2.01059954, 1.6037463 , 2.5364029 , 3.13691624, 8.23189731],\n",
       "        [8.15157331, 9.33785935, 6.3133757 , 6.46254985, 4.00905134,\n",
       "         8.63288145, 3.98627653, 3.08015287, 3.34103828, 9.96039772],\n",
       "        [2.55458378, 1.34907596, 2.08231535, 7.40403738, 2.2870808 ,\n",
       "         2.5535795 , 7.89339197, 9.75056913, 1.08315479, 3.85679945],\n",
       "        [9.11280375, 9.6047507 , 6.92317961, 1.66069765, 1.61075356,\n",
       "         2.73779329, 5.1368872 , 2.16013189, 8.03523146, 5.58068282],\n",
       "        [0.33792408, 6.97872185, 9.84716302, 7.35257107, 3.37160212,\n",
       "         1.53716148, 8.82055067, 7.51247494, 7.09154243, 5.07308445]]))"
      ]
     },
     "execution_count": 722,
     "metadata": {},
     "output_type": "execute_result"
    }
   ],
   "source": [
    "Z = np.random.uniform(0,10,(10,10))\n",
    "rank = np.linalg.matrix_rank(Z)\n",
    "print(rank), Z"
   ]
  },
  {
   "cell_type": "markdown",
   "id": "1171cb84",
   "metadata": {},
   "source": [
    "#### 83. How to find the most frequent value in an array?"
   ]
  },
  {
   "cell_type": "code",
   "execution_count": 726,
   "id": "33e951c8",
   "metadata": {},
   "outputs": [
    {
     "name": "stdout",
     "output_type": "stream",
     "text": [
      "3\n"
     ]
    }
   ],
   "source": [
    "arr = np.array([1, 2, 3, 2, 2, 3, 1, 3, 3, 3])\n",
    "most_frequent_value = np.bincount(arr).argmax()\n",
    "print(most_frequent_value)"
   ]
  },
  {
   "cell_type": "markdown",
   "id": "04f472aa",
   "metadata": {},
   "source": [
    "#### 84. Extract all the contiguous 3x3 blocks from a random 10x10 matrix"
   ]
  },
  {
   "cell_type": "code",
   "execution_count": 730,
   "id": "7aade14a",
   "metadata": {},
   "outputs": [
    {
     "name": "stdout",
     "output_type": "stream",
     "text": [
      "[[[[0 2 1]\n",
      "   [2 0 0]\n",
      "   [2 1 1]]\n",
      "\n",
      "  [[2 1 2]\n",
      "   [0 0 3]\n",
      "   [1 1 4]]\n",
      "\n",
      "  [[1 2 2]\n",
      "   [0 3 3]\n",
      "   [1 4 1]]\n",
      "\n",
      "  [[2 2 0]\n",
      "   [3 3 0]\n",
      "   [4 1 3]]\n",
      "\n",
      "  [[2 0 2]\n",
      "   [3 0 4]\n",
      "   [1 3 4]]\n",
      "\n",
      "  [[0 2 3]\n",
      "   [0 4 3]\n",
      "   [3 4 3]]\n",
      "\n",
      "  [[2 3 2]\n",
      "   [4 3 1]\n",
      "   [4 3 2]]\n",
      "\n",
      "  [[3 2 3]\n",
      "   [3 1 0]\n",
      "   [3 2 3]]]\n",
      "\n",
      "\n",
      " [[[2 0 0]\n",
      "   [2 1 1]\n",
      "   [0 4 0]]\n",
      "\n",
      "  [[0 0 3]\n",
      "   [1 1 4]\n",
      "   [4 0 3]]\n",
      "\n",
      "  [[0 3 3]\n",
      "   [1 4 1]\n",
      "   [0 3 3]]\n",
      "\n",
      "  [[3 3 0]\n",
      "   [4 1 3]\n",
      "   [3 3 1]]\n",
      "\n",
      "  [[3 0 4]\n",
      "   [1 3 4]\n",
      "   [3 1 4]]\n",
      "\n",
      "  [[0 4 3]\n",
      "   [3 4 3]\n",
      "   [1 4 0]]\n",
      "\n",
      "  [[4 3 1]\n",
      "   [4 3 2]\n",
      "   [4 0 2]]\n",
      "\n",
      "  [[3 1 0]\n",
      "   [3 2 3]\n",
      "   [0 2 4]]]\n",
      "\n",
      "\n",
      " [[[2 1 1]\n",
      "   [0 4 0]\n",
      "   [4 2 1]]\n",
      "\n",
      "  [[1 1 4]\n",
      "   [4 0 3]\n",
      "   [2 1 3]]\n",
      "\n",
      "  [[1 4 1]\n",
      "   [0 3 3]\n",
      "   [1 3 4]]\n",
      "\n",
      "  [[4 1 3]\n",
      "   [3 3 1]\n",
      "   [3 4 0]]\n",
      "\n",
      "  [[1 3 4]\n",
      "   [3 1 4]\n",
      "   [4 0 2]]\n",
      "\n",
      "  [[3 4 3]\n",
      "   [1 4 0]\n",
      "   [0 2 0]]\n",
      "\n",
      "  [[4 3 2]\n",
      "   [4 0 2]\n",
      "   [2 0 2]]\n",
      "\n",
      "  [[3 2 3]\n",
      "   [0 2 4]\n",
      "   [0 2 3]]]\n",
      "\n",
      "\n",
      " [[[0 4 0]\n",
      "   [4 2 1]\n",
      "   [3 1 0]]\n",
      "\n",
      "  [[4 0 3]\n",
      "   [2 1 3]\n",
      "   [1 0 4]]\n",
      "\n",
      "  [[0 3 3]\n",
      "   [1 3 4]\n",
      "   [0 4 2]]\n",
      "\n",
      "  [[3 3 1]\n",
      "   [3 4 0]\n",
      "   [4 2 4]]\n",
      "\n",
      "  [[3 1 4]\n",
      "   [4 0 2]\n",
      "   [2 4 3]]\n",
      "\n",
      "  [[1 4 0]\n",
      "   [0 2 0]\n",
      "   [4 3 1]]\n",
      "\n",
      "  [[4 0 2]\n",
      "   [2 0 2]\n",
      "   [3 1 0]]\n",
      "\n",
      "  [[0 2 4]\n",
      "   [0 2 3]\n",
      "   [1 0 2]]]\n",
      "\n",
      "\n",
      " [[[4 2 1]\n",
      "   [3 1 0]\n",
      "   [4 4 2]]\n",
      "\n",
      "  [[2 1 3]\n",
      "   [1 0 4]\n",
      "   [4 2 0]]\n",
      "\n",
      "  [[1 3 4]\n",
      "   [0 4 2]\n",
      "   [2 0 3]]\n",
      "\n",
      "  [[3 4 0]\n",
      "   [4 2 4]\n",
      "   [0 3 2]]\n",
      "\n",
      "  [[4 0 2]\n",
      "   [2 4 3]\n",
      "   [3 2 0]]\n",
      "\n",
      "  [[0 2 0]\n",
      "   [4 3 1]\n",
      "   [2 0 3]]\n",
      "\n",
      "  [[2 0 2]\n",
      "   [3 1 0]\n",
      "   [0 3 2]]\n",
      "\n",
      "  [[0 2 3]\n",
      "   [1 0 2]\n",
      "   [3 2 2]]]\n",
      "\n",
      "\n",
      " [[[3 1 0]\n",
      "   [4 4 2]\n",
      "   [1 2 4]]\n",
      "\n",
      "  [[1 0 4]\n",
      "   [4 2 0]\n",
      "   [2 4 2]]\n",
      "\n",
      "  [[0 4 2]\n",
      "   [2 0 3]\n",
      "   [4 2 0]]\n",
      "\n",
      "  [[4 2 4]\n",
      "   [0 3 2]\n",
      "   [2 0 3]]\n",
      "\n",
      "  [[2 4 3]\n",
      "   [3 2 0]\n",
      "   [0 3 1]]\n",
      "\n",
      "  [[4 3 1]\n",
      "   [2 0 3]\n",
      "   [3 1 2]]\n",
      "\n",
      "  [[3 1 0]\n",
      "   [0 3 2]\n",
      "   [1 2 2]]\n",
      "\n",
      "  [[1 0 2]\n",
      "   [3 2 2]\n",
      "   [2 2 0]]]\n",
      "\n",
      "\n",
      " [[[4 4 2]\n",
      "   [1 2 4]\n",
      "   [0 1 1]]\n",
      "\n",
      "  [[4 2 0]\n",
      "   [2 4 2]\n",
      "   [1 1 0]]\n",
      "\n",
      "  [[2 0 3]\n",
      "   [4 2 0]\n",
      "   [1 0 4]]\n",
      "\n",
      "  [[0 3 2]\n",
      "   [2 0 3]\n",
      "   [0 4 3]]\n",
      "\n",
      "  [[3 2 0]\n",
      "   [0 3 1]\n",
      "   [4 3 4]]\n",
      "\n",
      "  [[2 0 3]\n",
      "   [3 1 2]\n",
      "   [3 4 0]]\n",
      "\n",
      "  [[0 3 2]\n",
      "   [1 2 2]\n",
      "   [4 0 4]]\n",
      "\n",
      "  [[3 2 2]\n",
      "   [2 2 0]\n",
      "   [0 4 0]]]\n",
      "\n",
      "\n",
      " [[[1 2 4]\n",
      "   [0 1 1]\n",
      "   [3 2 0]]\n",
      "\n",
      "  [[2 4 2]\n",
      "   [1 1 0]\n",
      "   [2 0 3]]\n",
      "\n",
      "  [[4 2 0]\n",
      "   [1 0 4]\n",
      "   [0 3 1]]\n",
      "\n",
      "  [[2 0 3]\n",
      "   [0 4 3]\n",
      "   [3 1 4]]\n",
      "\n",
      "  [[0 3 1]\n",
      "   [4 3 4]\n",
      "   [1 4 1]]\n",
      "\n",
      "  [[3 1 2]\n",
      "   [3 4 0]\n",
      "   [4 1 2]]\n",
      "\n",
      "  [[1 2 2]\n",
      "   [4 0 4]\n",
      "   [1 2 4]]\n",
      "\n",
      "  [[2 2 0]\n",
      "   [0 4 0]\n",
      "   [2 4 1]]]]\n"
     ]
    }
   ],
   "source": [
    "from numpy.lib.stride_tricks import sliding_window_view\n",
    "Z = np.random.randint(0,5,(10,10))\n",
    "print(sliding_window_view(Z, window_shape=(3, 3)))"
   ]
  },
  {
   "cell_type": "markdown",
   "id": "52836346",
   "metadata": {},
   "source": [
    "#### 85. Create a 2D array subclass such that Z[i,j] == Z[j,i]"
   ]
  },
  {
   "cell_type": "code",
   "execution_count": 738,
   "id": "4df70318",
   "metadata": {},
   "outputs": [
    {
     "name": "stdout",
     "output_type": "stream",
     "text": [
      "10\n"
     ]
    }
   ],
   "source": [
    "class SymmetricArray:\n",
    "    def __init__(self, size):\n",
    "        self.size = size\n",
    "        self.data = [[0] * size for _ in range(size)]\n",
    "\n",
    "    def __getitem__(self, indices):\n",
    "        i, j = indices\n",
    "        return self.data[i][j]\n",
    "\n",
    "    def __setitem__(self, indices, value):\n",
    "        i, j = indices\n",
    "        self.data[i][j] = value\n",
    "        self.data[j][i] = value\n",
    "\n",
    "size = 3\n",
    "Z = SymmetricArray(size)\n",
    "\n",
    "Z[0, 1] = 10\n",
    "print(Z[0, 1])"
   ]
  },
  {
   "cell_type": "markdown",
   "id": "78c43ee5",
   "metadata": {},
   "source": [
    "#### 86. Consider a set of p matrices with shape (n,n) and a set of p vectors with shape (n,1). How to compute the sum of of the p matrix products at once? (result has shape (n,1))"
   ]
  },
  {
   "cell_type": "code",
   "execution_count": 753,
   "id": "32fd2c3b",
   "metadata": {},
   "outputs": [
    {
     "name": "stdout",
     "output_type": "stream",
     "text": [
      "[[3.57132693]\n",
      " [4.39698534]\n",
      " [3.29443636]]\n"
     ]
    },
    {
     "name": "stderr",
     "output_type": "stream",
     "text": [
      "C:\\Users\\mughe\\AppData\\Local\\Temp\\ipykernel_13820\\3810731232.py:7: DeprecationWarning: Calling np.sum(generator) is deprecated, and in the future will give a different result. Use np.sum(np.fromiter(generator)) or the python sum builtin instead.\n",
      "  result = np.sum(np.matmul(matrices[i], vectors[i]) for i in range(p))\n"
     ]
    }
   ],
   "source": [
    "p = 5\n",
    "n = 3\n",
    "\n",
    "matrices = [np.random.rand(n, n) for _ in range(p)]\n",
    "vectors = [np.random.rand(n, 1) for _ in range(p)]\n",
    "\n",
    "result = np.sum(np.matmul(matrices[i], vectors[i]) for i in range(p))\n",
    "\n",
    "print(result)"
   ]
  },
  {
   "cell_type": "markdown",
   "id": "158f9945",
   "metadata": {},
   "source": [
    "#### 87. Consider a 16x16 array, how to get the block-sum (block size is 4x4)? "
   ]
  },
  {
   "cell_type": "code",
   "execution_count": 800,
   "id": "5a9b808f",
   "metadata": {},
   "outputs": [
    {
     "name": "stdout",
     "output_type": "stream",
     "text": [
      "Block-sums (4x4 blocks):\n",
      "[[85 80 81 92]\n",
      " [77 83 83 66]\n",
      " [86 73 73 74]\n",
      " [91 72 53 82]]\n"
     ]
    },
    {
     "data": {
      "text/plain": [
       "(array([[5, 3, 3, 1, 9, 1, 6, 9, 4, 9, 4, 2, 7, 1, 7, 2],\n",
       "        [9, 8, 4, 1, 9, 1, 1, 2, 1, 4, 2, 6, 3, 7, 7, 8],\n",
       "        [9, 7, 7, 4, 6, 5, 5, 2, 9, 6, 4, 6, 5, 7, 8, 7],\n",
       "        [9, 2, 4, 9, 3, 9, 9, 3, 9, 3, 7, 5, 5, 7, 2, 9],\n",
       "        [2, 7, 2, 8, 1, 6, 9, 6, 7, 5, 8, 6, 1, 5, 4, 2],\n",
       "        [4, 2, 3, 5, 9, 7, 4, 4, 2, 8, 5, 3, 3, 6, 8, 5],\n",
       "        [9, 4, 9, 1, 1, 4, 9, 8, 9, 2, 7, 5, 1, 1, 5, 9],\n",
       "        [6, 9, 4, 2, 5, 2, 4, 4, 3, 9, 2, 2, 3, 1, 7, 5],\n",
       "        [5, 4, 7, 9, 5, 3, 5, 2, 2, 7, 2, 8, 3, 7, 7, 3],\n",
       "        [8, 7, 7, 8, 1, 3, 6, 5, 1, 9, 8, 3, 6, 5, 5, 2],\n",
       "        [1, 3, 5, 3, 3, 7, 5, 6, 1, 3, 1, 6, 9, 5, 1, 4],\n",
       "        [4, 6, 7, 2, 8, 1, 7, 6, 8, 4, 5, 5, 8, 1, 5, 3],\n",
       "        [6, 3, 7, 8, 7, 7, 3, 8, 4, 1, 3, 6, 2, 6, 6, 2],\n",
       "        [7, 7, 2, 9, 1, 4, 4, 8, 4, 5, 4, 8, 8, 3, 5, 7],\n",
       "        [4, 4, 1, 6, 1, 4, 6, 2, 3, 5, 3, 2, 5, 5, 5, 2],\n",
       "        [3, 7, 8, 9, 3, 5, 3, 6, 2, 1, 1, 1, 5, 8, 4, 9]]),\n",
       " None)"
      ]
     },
     "execution_count": 800,
     "metadata": {},
     "output_type": "execute_result"
    }
   ],
   "source": [
    "import numpy as np\n",
    "\n",
    "# Example 16x16 array\n",
    "arr = np.random.randint(1, 10, size=(16, 16))\n",
    "block_size = 4\n",
    "block_sums = np.zeros((4, 4), dtype=int)\n",
    "\n",
    "for i in range(4):\n",
    "    for j in range(4):\n",
    "        block = arr[i*block_size:(i+1)*block_size, j*block_size:(j+1)*block_size]\n",
    "        block_sum = np.sum(block)\n",
    "        block_sums[i, j] = block_sum\n",
    "        \n",
    "print(\"Block-sums (4x4 blocks):\")\n",
    "arr, print(block_sums)\n"
   ]
  },
  {
   "cell_type": "markdown",
   "id": "2e0ad860",
   "metadata": {},
   "source": [
    "#### 88. How to implement the Game of Life using numpy arrays?"
   ]
  },
  {
   "cell_type": "code",
   "execution_count": 832,
   "id": "574acff5",
   "metadata": {},
   "outputs": [
    {
     "name": "stdout",
     "output_type": "stream",
     "text": [
      "[[0 0 0 0 0 0 0 0 0 0 0 0 0 0 0 0 0 0 1 1]\n",
      " [0 0 1 0 0 0 0 0 0 0 0 0 0 0 0 0 0 0 0 1]\n",
      " [1 1 0 0 0 0 0 0 0 0 0 0 0 0 0 0 0 0 0 0]\n",
      " [0 0 0 0 0 0 0 0 0 0 0 0 0 0 0 0 0 0 0 0]\n",
      " [0 0 0 0 0 0 0 0 0 0 0 0 0 0 0 0 0 0 0 0]\n",
      " [0 0 0 0 0 0 0 0 0 0 0 0 0 0 0 0 0 0 0 0]\n",
      " [0 0 0 0 0 0 0 0 0 0 0 0 0 0 0 0 0 0 0 0]\n",
      " [0 0 0 0 0 0 0 0 0 0 0 0 0 0 0 0 0 0 0 0]\n",
      " [0 0 0 0 0 0 0 0 0 0 0 0 0 0 0 0 0 0 0 0]\n",
      " [0 0 0 0 0 0 0 0 0 0 0 0 0 0 0 0 0 0 0 0]\n",
      " [0 0 0 0 0 0 0 0 0 0 0 0 0 0 0 0 0 0 0 0]\n",
      " [0 0 0 0 0 0 0 0 0 0 0 0 0 0 0 0 0 0 0 0]\n",
      " [1 0 1 0 0 1 0 0 0 0 0 0 0 0 0 0 0 0 0 0]\n",
      " [1 0 1 0 0 0 0 0 0 0 0 0 0 0 0 0 0 0 0 0]\n",
      " [1 0 0 0 1 0 1 0 0 0 0 0 0 0 0 0 0 0 1 1]\n",
      " [0 0 0 1 0 1 0 0 0 0 0 0 0 0 0 0 0 0 0 0]\n",
      " [1 1 0 0 0 0 0 0 0 0 0 0 0 1 0 0 0 0 0 0]\n",
      " [0 1 1 1 1 0 1 0 0 0 0 0 1 0 1 0 0 0 0 0]\n",
      " [1 1 0 0 0 0 1 0 0 0 0 0 1 0 0 1 0 0 0 0]\n",
      " [1 0 0 0 0 0 0 0 0 0 0 0 0 1 1 0 0 0 0 0]]\n"
     ]
    }
   ],
   "source": [
    "import numpy as np\n",
    "\n",
    "def initialize_grid(size, prob_alive=0.2):\n",
    "    return np.random.choice([0, 1], size=(size, size), p=[1-prob_alive, prob_alive])\n",
    "\n",
    "def update(grid):\n",
    "    size = grid.shape[0]\n",
    "    new_grid = np.zeros_like(grid)\n",
    "    \n",
    "    for i in range(size):\n",
    "        for j in range(size):\n",
    "            neighbors_sum = (\n",
    "                grid[(i-1) % size, (j-1) % size] + grid[(i-1) % size, j] + grid[(i-1) % size, (j+1) % size] +\n",
    "                grid[i, (j-1) % size] + grid[i, (j+1) % size] +\n",
    "                grid[(i+1) % size, (j-1) % size] + grid[(i+1) % size, j] + grid[(i+1) % size, (j+1) % size]\n",
    "            )\n",
    "            \n",
    "            if grid[i, j] == 1 and (neighbors_sum < 2 or neighbors_sum > 3):\n",
    "                new_grid[i, j] = 0\n",
    "            elif grid[i, j] == 0 and neighbors_sum == 3:\n",
    "                new_grid[i, j] = 1\n",
    "            else:\n",
    "                new_grid[i, j] = grid[i, j]\n",
    "    \n",
    "    return new_grid\n",
    "\n",
    "def simulate_game_of_life(size, generations, prob_alive=0.2):\n",
    "    grid = initialize_grid(size, prob_alive)\n",
    "    \n",
    "    for _ in range(generations):\n",
    "        grid = update(grid)\n",
    "    \n",
    "    return grid\n",
    "\n",
    "size = 20\n",
    "generations = 50\n",
    "prob_alive = 0.2\n",
    "\n",
    "final_grid = simulate_game_of_life(size, generations, prob_alive)\n",
    "print(final_grid)\n"
   ]
  },
  {
   "cell_type": "code",
   "execution_count": 838,
   "id": "2a188452-46dc-48ae-8d02-5f7bb15d5d23",
   "metadata": {},
   "outputs": [],
   "source": [
    "np.set_printoptions(threshold=6)"
   ]
  },
  {
   "cell_type": "markdown",
   "id": "69a892fa",
   "metadata": {},
   "source": [
    "#### 89. How to get the n largest values of an array"
   ]
  },
  {
   "cell_type": "code",
   "execution_count": 844,
   "id": "21b2bd48",
   "metadata": {},
   "outputs": [
    {
     "data": {
      "text/plain": [
       "array([9995, 9996, 9997, 9998, 9999])"
      ]
     },
     "execution_count": 844,
     "metadata": {},
     "output_type": "execute_result"
    }
   ],
   "source": [
    "arr = np.arange(10000)\n",
    "np.random.shuffle(arr)\n",
    "n = 5\n",
    "\n",
    "indices = np.argpartition(arr, -n)[-n:]\n",
    "\n",
    "largest_values = arr[indices]\n",
    "largest_values"
   ]
  },
  {
   "cell_type": "markdown",
   "id": "b55ccacc",
   "metadata": {},
   "source": [
    "#### 90. Given an arbitrary number of vectors, build the cartesian product (every combinations of every item) "
   ]
  },
  {
   "cell_type": "code",
   "execution_count": 848,
   "id": "c75487fb-243b-49ee-b2b9-097f8a6c8285",
   "metadata": {},
   "outputs": [],
   "source": [
    "np.set_printoptions(threshold=np.inf)"
   ]
  },
  {
   "cell_type": "code",
   "execution_count": 850,
   "id": "4b645da4",
   "metadata": {},
   "outputs": [
    {
     "name": "stdout",
     "output_type": "stream",
     "text": [
      "[[1 4 6]\n",
      " [1 4 7]\n",
      " [1 4 8]\n",
      " [1 5 6]\n",
      " [1 5 7]\n",
      " [1 5 8]\n",
      " [2 4 6]\n",
      " [2 4 7]\n",
      " [2 4 8]\n",
      " [2 5 6]\n",
      " [2 5 7]\n",
      " [2 5 8]\n",
      " [3 4 6]\n",
      " [3 4 7]\n",
      " [3 4 8]\n",
      " [3 5 6]\n",
      " [3 5 7]\n",
      " [3 5 8]]\n"
     ]
    }
   ],
   "source": [
    "import numpy as np\n",
    "\n",
    "def cartesian_product(*arrays):\n",
    "    arrays = [np.asarray(arr) for arr in arrays]\n",
    "    grids = np.meshgrid(*arrays, indexing='ij')\n",
    "    stacked = np.stack(grids, axis=-1)\n",
    "    product = stacked.reshape(-1, len(arrays))\n",
    "    return product\n",
    "\n",
    "arr1 = np.array([1, 2, 3])\n",
    "arr2 = np.array([4, 5])\n",
    "arr3 = np.array([6, 7, 8])\n",
    "\n",
    "result = cartesian_product(arr1, arr2, arr3)\n",
    "print(result)\n"
   ]
  },
  {
   "cell_type": "code",
   "execution_count": 852,
   "id": "71346a0d-a586-488d-a58e-01dc7c52d52d",
   "metadata": {},
   "outputs": [],
   "source": [
    "np.set_printoptions(threshold=6)"
   ]
  },
  {
   "cell_type": "markdown",
   "id": "89187a23",
   "metadata": {},
   "source": [
    "#### 91. How to create a record array from a regular array?"
   ]
  },
  {
   "cell_type": "code",
   "execution_count": 854,
   "id": "da94c71a",
   "metadata": {},
   "outputs": [
    {
     "name": "stdout",
     "output_type": "stream",
     "text": [
      "[(b'Hello', 2.5, 3) (b'World', 3.6, 2)]\n"
     ]
    }
   ],
   "source": [
    "Z = np.array([(\"Hello\", 2.5, 3),\n",
    "              (\"World\", 3.6, 2)])\n",
    "R = np.core.records.fromarrays(Z.T,\n",
    "                               names='col1, col2, col3',\n",
    "                               formats = 'S8, f8, i8')\n",
    "print(R)"
   ]
  },
  {
   "cell_type": "code",
   "execution_count": 866,
   "id": "c7cfd310-e1a4-4be0-ba5f-1a56ad27bf5f",
   "metadata": {},
   "outputs": [
    {
     "name": "stdout",
     "output_type": "stream",
     "text": [
      "Regular array:\n",
      "[['1' 'Alice' '25']\n",
      " ['2' 'Bob' '30']\n",
      " ['3' 'Charlie' '35']]\n",
      "\n",
      "Record array:\n",
      "[(1, 'Alice', 25) (2, 'Bob', 30) (3, 'Charlie', 35)]\n"
     ]
    },
    {
     "name": "stderr",
     "output_type": "stream",
     "text": [
      "C:\\Users\\mughe\\AppData\\Local\\Temp\\ipykernel_13820\\393765614.py:8: FutureWarning: fromrecords expected a list of tuples, may have received a list of lists instead. In the future that will raise an error\n",
      "  record_array = np.rec.fromrecords(regular_array, dtype=dtype)\n"
     ]
    }
   ],
   "source": [
    "regular_array = np.array([\n",
    "    (1, 'Alice', 25),\n",
    "    (2, 'Bob', 30),\n",
    "    (3, 'Charlie', 35)\n",
    "])\n",
    "\n",
    "dtype = [('id', int), ('name', 'U10'), ('age', int)]\n",
    "record_array = np.rec.fromrecords(regular_array, dtype=dtype)\n",
    "\n",
    "print(\"Regular array:\")\n",
    "print(regular_array)\n",
    "\n",
    "print(\"\\nRecord array:\")\n",
    "print(record_array)"
   ]
  },
  {
   "cell_type": "markdown",
   "id": "aa70d4ca",
   "metadata": {},
   "source": [
    "#### 92. Consider a large vector Z, compute Z to the power of 3 using 3 different methods"
   ]
  },
  {
   "cell_type": "code",
   "execution_count": 879,
   "id": "7cff1bf5",
   "metadata": {},
   "outputs": [
    {
     "name": "stdout",
     "output_type": "stream",
     "text": [
      "68.4 ms ± 7.14 ms per loop (mean ± std. dev. of 7 runs, 10 loops each)\n",
      "13 ms ± 798 μs per loop (mean ± std. dev. of 7 runs, 100 loops each)\n",
      "7.99 ms ± 735 μs per loop (mean ± std. dev. of 7 runs, 100 loops each)\n",
      "NumPy (np.power) result:\n",
      "[0.00289774 0.0051428  0.00571561 ... 0.64218858 0.1717853  0.01640023]\n",
      "\n",
      "NumPy (broadcasting) result:\n",
      "[0.01031198 0.414427   0.15376338 ... 0.28951232 0.00086205 0.05623271]\n",
      "\n",
      "Pure Python (list comprehension) result:\n",
      "[0.01031198 0.414427   0.15376338 ... 0.28951232 0.00086205 0.05623271]\n"
     ]
    }
   ],
   "source": [
    "import numpy as np\n",
    "\n",
    "Z = np.random.rand(1000000)  \n",
    "\n",
    "%timeit Z_cubed_np = np.power(Z, 3)\n",
    "%timeit Z_cubed_broadcast = Z * Z * Z\n",
    "%timeit Z_cubed_python = np.einsum('i,i,i->i',Z,Z,Z)\n",
    "\n",
    "print(\"NumPy (np.power) result:\")\n",
    "print(Z_cubed_np[:10])\n",
    "print(\"\\nNumPy (broadcasting) result:\")\n",
    "print(Z_cubed_broadcast[:10])\n",
    "print(\"\\nPure Python (list comprehension) result:\")\n",
    "print(Z_cubed_python[:10])"
   ]
  },
  {
   "cell_type": "markdown",
   "id": "5f79dd00",
   "metadata": {},
   "source": [
    "#### 93. Consider two arrays A and B of shape (8,3) and (2,2). How to find rows of A that contain elements of each row of B regardless of the order of the elements in B?"
   ]
  },
  {
   "cell_type": "code",
   "execution_count": 883,
   "id": "20c105b2",
   "metadata": {},
   "outputs": [
    {
     "name": "stdout",
     "output_type": "stream",
     "text": [
      "Array A:\n",
      "[[1 2 3]\n",
      " [4 5 6]\n",
      " [7 8 9]\n",
      " ...\n",
      " [9 7 8]\n",
      " [2 3 1]\n",
      " [5 6 4]]\n",
      "\n",
      "Array B:\n",
      "[[1 2]\n",
      " [4 5]]\n",
      "\n",
      "Rows of A containing elements of each row of B (regardless of order):\n",
      "[[1 2 3]\n",
      " [4 5 6]\n",
      " [7 8 9]\n",
      " ...\n",
      " [9 7 8]\n",
      " [2 3 1]\n",
      " [5 6 4]]\n"
     ]
    }
   ],
   "source": [
    "import numpy as np\n",
    "\n",
    "A = np.array([[1, 2, 3],\n",
    "              [4, 5, 6],\n",
    "              [7, 8, 9],\n",
    "              [3, 1, 2],\n",
    "              [6, 4, 5],\n",
    "              [9, 7, 8],\n",
    "              [2, 3, 1],\n",
    "              [5, 6, 4]])\n",
    "\n",
    "B = np.array([[1, 2],\n",
    "              [4, 5]])\n",
    "\n",
    "result_rows = []\n",
    "for row in A:\n",
    "    for b_row in B:\n",
    "        if all(element in row for element in b_row):\n",
    "            result_rows.append(row)\n",
    "            break\n",
    "\n",
    "result_rows_of_A = np.array(result_rows)\n",
    "\n",
    "print(\"Array A:\")\n",
    "print(A)\n",
    "print(\"\\nArray B:\")\n",
    "print(B)\n",
    "print(\"\\nRows of A containing elements of each row of B (regardless of order):\")\n",
    "print(result_rows_of_A)\n"
   ]
  },
  {
   "cell_type": "markdown",
   "id": "a80570cd",
   "metadata": {},
   "source": [
    "#### 94. Considering a 10x3 matrix, extract rows with unequal values (e.g. [2,2,3])"
   ]
  },
  {
   "cell_type": "code",
   "execution_count": 893,
   "id": "84db8de1",
   "metadata": {},
   "outputs": [
    {
     "data": {
      "text/plain": [
       "(array([[2, 0, 2],\n",
       "        [1, 1, 4],\n",
       "        [4, 2, 0],\n",
       "        ...,\n",
       "        [2, 2, 4],\n",
       "        [2, 1, 2],\n",
       "        [1, 0, 0]]),\n",
       " array([[4, 2, 0],\n",
       "        [2, 3, 0],\n",
       "        [2, 4, 3],\n",
       "        [1, 2, 0]]))"
      ]
     },
     "execution_count": 893,
     "metadata": {},
     "output_type": "execute_result"
    }
   ],
   "source": [
    "arr = np.random.randint(0,5,(10,3))\n",
    "output = arr[np.apply_along_axis(lambda row: len(set(row)) == len(row), 1, arr)]\n",
    "arr, output"
   ]
  },
  {
   "cell_type": "markdown",
   "id": "ba154f43",
   "metadata": {},
   "source": [
    "#### 95. Convert a vector of ints into a matrix binary representation"
   ]
  },
  {
   "cell_type": "code",
   "execution_count": 905,
   "id": "cfa96e1b",
   "metadata": {},
   "outputs": [
    {
     "data": {
      "text/plain": [
       "(array([  0,   1,   2,   3,  15,  16,  32,  64, 128], dtype=uint8),\n",
       " array([[0, 0, 0, 0, 0, 0, 0, 0],\n",
       "        [0, 0, 0, 0, 0, 0, 0, 1],\n",
       "        [0, 0, 0, 0, 0, 0, 1, 0],\n",
       "        [0, 0, 0, 0, 0, 0, 1, 1],\n",
       "        [0, 0, 0, 0, 1, 1, 1, 1],\n",
       "        [0, 0, 0, 1, 0, 0, 0, 0],\n",
       "        [0, 0, 1, 0, 0, 0, 0, 0],\n",
       "        [0, 1, 0, 0, 0, 0, 0, 0],\n",
       "        [1, 0, 0, 0, 0, 0, 0, 0]], dtype=uint8))"
      ]
     },
     "execution_count": 905,
     "metadata": {},
     "output_type": "execute_result"
    }
   ],
   "source": [
    "np.set_printoptions(threshold=128)\n",
    "I = np.array([0, 1, 2, 3, 15, 16, 32, 64, 128], dtype=np.uint8)\n",
    "binary_matrix = np.unpackbits(I[:, np.newaxis], axis=1)\n",
    "I, binary_matrix"
   ]
  },
  {
   "cell_type": "markdown",
   "id": "420e2343",
   "metadata": {},
   "source": [
    "#### 96. Given a two dimensional array, how to extract unique rows?"
   ]
  },
  {
   "cell_type": "code",
   "execution_count": 909,
   "id": "4680dfd0",
   "metadata": {},
   "outputs": [
    {
     "data": {
      "text/plain": [
       "array([[1, 2, 3],\n",
       "       [4, 5, 6],\n",
       "       [7, 8, 9]])"
      ]
     },
     "execution_count": 909,
     "metadata": {},
     "output_type": "execute_result"
    }
   ],
   "source": [
    "array = np.array([[1, 2, 3],\n",
    "                  [4, 5, 6],\n",
    "                  [1, 2, 3],\n",
    "                  [7, 8, 9],\n",
    "                  [4, 5, 6]])\n",
    "unique_rows = np.unique(array, axis=0)\n",
    "unique_rows"
   ]
  },
  {
   "cell_type": "markdown",
   "id": "89fef2f3",
   "metadata": {},
   "source": [
    "#### 97. Considering 2 vectors A & B, write the einsum equivalent of inner, outer, sum, and mul function"
   ]
  },
  {
   "cell_type": "code",
   "execution_count": 916,
   "id": "bb9c14b2",
   "metadata": {},
   "outputs": [
    {
     "name": "stdout",
     "output_type": "stream",
     "text": [
      "Sum of elements of A: 5.328126045125186\n",
      "Element-wise multiplication: [0.34184546 0.43676482 0.00959253 0.23061364 0.10210718 0.05979218\n",
      " 0.74273915 0.87784066 0.13200539 0.15915248]\n",
      "Inner product: 3.0924534863864683\n",
      "Outer product:\n",
      " [[3.41845463e-01 4.83016747e-01 6.80721643e-03 2.83354187e-01\n",
      "  2.31921228e-01 4.54713958e-01 4.45245684e-01 5.71561041e-01\n",
      "  1.54268409e-01 5.04951380e-01]\n",
      " [3.09111587e-01 4.36764823e-01 6.15538218e-03 2.56221222e-01\n",
      "  2.09713296e-01 4.11172205e-01 4.02610579e-01 5.16830438e-01\n",
      "  1.39496228e-01 4.56599076e-01]\n",
      " [4.81718404e-01 6.80652756e-01 9.59252583e-03 3.99294247e-01\n",
      "  3.26816459e-01 6.40769311e-01 6.27426903e-01 8.05426727e-01\n",
      "  2.17390428e-01 7.11562385e-01]\n",
      " [2.78217972e-01 3.93113131e-01 5.54019333e-03 2.30613642e-01\n",
      "  1.88753869e-01 3.70078322e-01 3.62372372e-01 4.65176728e-01\n",
      "  1.25554523e-01 4.10965083e-01]\n",
      " [1.50503150e-01 2.12656155e-01 2.99699023e-03 1.24751393e-01\n",
      "  1.02107177e-01 2.00195381e-01 1.96026816e-01 2.51639253e-01\n",
      "  6.79192323e-02 2.22313242e-01]\n",
      " [4.49506475e-02 6.35138327e-02 8.95108519e-04 3.72593922e-02\n",
      "  3.04962636e-02 5.97921840e-02 5.85471623e-02 7.51568813e-02\n",
      "  2.02853792e-02 6.63981067e-02]\n",
      " [5.70251475e-01 8.05747165e-01 1.13554972e-02 4.72678917e-01\n",
      "  3.86880730e-01 7.58533704e-01 7.42739148e-01 9.53452838e-01\n",
      "  2.57343733e-01 8.42337550e-01]\n",
      " [5.25028520e-01 7.41848570e-01 1.04549662e-02 4.35193810e-01\n",
      "  3.56199722e-01 6.98379303e-01 6.83837311e-01 8.77840661e-01\n",
      "  2.36935467e-01 7.75537208e-01]\n",
      " [2.92512527e-01 4.13310881e-01 5.82484280e-03 2.42462336e-01\n",
      "  1.98451850e-01 3.89092568e-01 3.80990694e-01 4.89077033e-01\n",
      "  1.32005386e-01 4.32080049e-01]\n",
      " [1.07744139e-01 1.52239036e-01 2.14552408e-03 8.93086386e-02\n",
      "  7.30978051e-02 1.43318456e-01 1.40334210e-01 1.80146759e-01\n",
      "  4.86228974e-02 1.59152476e-01]]\n"
     ]
    }
   ],
   "source": [
    "A = np.random.uniform(0,1,10)\n",
    "B = np.random.uniform(0,1,10)\n",
    "\n",
    "sum_A = np.einsum('i->', A)\n",
    "print(\"Sum of elements of A:\", sum_A)\n",
    "\n",
    "elementwise_multiplication = np.einsum('i,i->i', A, B)\n",
    "print(\"Element-wise multiplication:\", elementwise_multiplication)\n",
    "\n",
    "inner_product = np.einsum('i,i', A, B)\n",
    "print(\"Inner product:\", inner_product)\n",
    "\n",
    "outer_product = np.einsum('i,j->ij', A, B)\n",
    "print(\"Outer product:\\n\", outer_product)"
   ]
  },
  {
   "cell_type": "markdown",
   "id": "7ad5cc5f",
   "metadata": {},
   "source": [
    "#### 98. Considering a path described by two vectors (X,Y), how to sample it using equidistant samples?"
   ]
  },
  {
   "cell_type": "code",
   "execution_count": 920,
   "id": "0899d1d5",
   "metadata": {},
   "outputs": [
    {
     "name": "stdout",
     "output_type": "stream",
     "text": [
      "Equidistant sampled points:\n",
      "(0.00, 0.00)\n",
      "(-0.37, 1.74)\n",
      "(-2.60, 0.98)\n",
      "(-3.26, -1.34)\n",
      "(-2.18, -3.53)\n",
      "(-0.03, -4.70)\n",
      "(2.43, -4.60)\n",
      "(4.55, -3.34)\n",
      "(5.92, -1.29)\n",
      "(6.35, 1.14)\n",
      "(5.82, 3.56)\n",
      "(4.46, 5.62)\n",
      "(2.47, 7.09)\n",
      "(0.11, 7.83)\n",
      "(-2.37, 7.79)\n",
      "(-4.71, 7.00)\n",
      "(-6.73, 5.56)\n",
      "(-8.26, 3.60)\n",
      "(-9.18, 1.31)\n",
      "(-9.46, -1.16)\n",
      "(-9.11, -3.61)\n",
      "(-8.13, -5.89)\n",
      "(-6.63, -7.87)\n",
      "(-4.69, -9.42)\n",
      "(-2.45, -10.47)\n",
      "(-0.02, -10.99)\n",
      "(2.46, -10.94)\n",
      "(4.87, -10.33)\n",
      "(7.09, -9.23)\n",
      "(9.03, -7.67)\n",
      "(10.59, -5.75)\n",
      "(11.74, -3.55)\n",
      "(12.41, -1.16)\n",
      "(12.59, 1.32)\n",
      "(12.28, 3.78)\n",
      "(11.51, 6.14)\n",
      "(10.30, 8.31)\n",
      "(8.70, 10.21)\n",
      "(6.79, 11.79)\n",
      "(4.62, 13.00)\n",
      "(2.26, 13.78)\n",
      "(-0.20, 14.13)\n",
      "(-2.68, 14.06)\n",
      "(-5.12, 13.56)\n",
      "(-7.42, 12.63)\n",
      "(-9.54, 11.34)\n",
      "(-11.42, 9.72)\n",
      "(-12.99, 7.79)\n",
      "(-14.24, 5.65)\n",
      "(-15.12, 3.33)\n",
      "(-15.61, 0.89)\n",
      "(-15.72, -1.59)\n",
      "(-15.42, -4.06)\n",
      "(-14.76, -6.45)\n",
      "(-13.73, -8.71)\n",
      "(-12.36, -10.79)\n",
      "(-10.70, -12.64)\n",
      "(-8.78, -14.21)\n",
      "(-6.65, -15.49)\n",
      "(-4.36, -16.44)\n",
      "(-1.94, -17.04)\n",
      "(0.53, -17.29)\n",
      "(3.01, -17.17)\n",
      "(5.45, -16.72)\n",
      "(7.80, -15.90)\n",
      "(10.02, -14.78)\n",
      "(12.06, -13.37)\n",
      "(13.87, -11.67)\n",
      "(15.46, -9.75)\n",
      "(16.75, -7.63)\n",
      "(17.74, -5.35)\n",
      "(18.44, -2.97)\n",
      "(18.80, -0.51)\n",
      "(18.83, 1.98)\n",
      "(18.55, 4.44)\n",
      "(17.94, 6.85)\n",
      "(17.01, 9.16)\n",
      "(15.81, 11.33)\n",
      "(14.35, 13.35)\n",
      "(12.62, 15.13)\n",
      "(10.69, 16.70)\n",
      "(8.58, 18.02)\n",
      "(6.34, 19.07)\n",
      "(3.96, 19.81)\n",
      "(1.52, 20.26)\n",
      "(-0.96, 20.42)\n",
      "(-3.44, 20.29)\n",
      "(-5.89, 19.84)\n",
      "(-8.26, 19.10)\n",
      "(-10.53, 18.08)\n",
      "(-12.66, 16.81)\n",
      "(-14.63, 15.30)\n",
      "(-16.42, 13.57)\n",
      "(-17.97, 11.62)\n",
      "(-19.29, 9.52)\n",
      "(-20.36, 7.27)\n",
      "(-21.17, 4.93)\n",
      "(-21.71, 2.50)\n",
      "(-21.98, 0.03)\n",
      "(-21.96, -2.46)\n",
      "(-21.65, -4.92)\n",
      "(-21.06, -7.34)\n",
      "(-20.21, -9.68)\n",
      "(-19.12, -11.91)\n",
      "(-17.78, -14.00)\n",
      "(-16.22, -15.94)\n",
      "(-14.47, -17.70)\n",
      "(-12.53, -19.25)\n",
      "(-10.43, -20.59)\n",
      "(-8.21, -21.70)\n",
      "(-5.87, -22.55)\n",
      "(-3.46, -23.14)\n",
      "(-0.99, -23.48)\n",
      "(1.49, -23.56)\n",
      "(3.97, -23.37)\n",
      "(6.42, -22.93)\n",
      "(8.80, -22.23)\n",
      "(11.10, -21.29)\n",
      "(13.29, -20.12)\n",
      "(15.35, -18.73)\n",
      "(17.26, -17.14)\n",
      "(18.99, -15.36)\n",
      "(20.53, -13.41)\n",
      "(21.87, -11.31)\n",
      "(22.99, -9.10)\n",
      "(23.88, -6.78)\n",
      "(24.54, -4.38)\n",
      "(24.95, -1.93)\n",
      "(25.12, 0.55)\n",
      "(25.04, 3.03)\n",
      "(24.72, 5.50)\n",
      "(24.15, 7.92)\n",
      "(23.36, 10.27)\n",
      "(22.33, 12.54)\n",
      "(21.10, 14.69)\n",
      "(19.66, 16.72)\n",
      "(18.03, 18.60)\n",
      "(16.23, 20.31)\n",
      "(14.28, 21.85)\n",
      "(12.19, 23.19)\n",
      "(9.98, 24.33)\n",
      "(7.67, 25.26)\n",
      "(5.29, 25.97)\n",
      "(2.84, 26.44)\n",
      "(0.37, 26.67)\n",
      "(-2.12, 26.68)\n",
      "(-4.59, 26.45)\n",
      "(-7.04, 26.00)\n",
      "(-9.43, 25.33)\n",
      "(-11.75, 24.44)\n",
      "(-13.98, 23.34)\n",
      "(-16.10, 22.05)\n",
      "(-18.10, 20.57)\n",
      "(-19.96, 18.92)\n",
      "(-21.66, 17.10)\n",
      "(-23.19, 15.14)\n",
      "(-24.52, 13.04)\n",
      "(-25.66, 10.83)\n",
      "(-26.60, 8.53)\n",
      "(-27.33, 6.16)\n",
      "(-27.86, 3.73)\n",
      "(-28.17, 1.26)\n",
      "(-28.27, -1.22)\n",
      "(-28.16, -3.71)\n",
      "(-27.81, -6.17)\n",
      "(-27.23, -8.59)\n",
      "(-26.46, -10.95)\n",
      "(-25.48, -13.24)\n",
      "(-24.32, -15.43)\n",
      "(-22.98, -17.52)\n",
      "(-21.46, -19.50)\n",
      "(-19.78, -21.33)\n",
      "(-17.93, -23.00)\n",
      "(-15.95, -24.50)\n",
      "(-13.86, -25.83)\n",
      "(-11.66, -26.99)\n",
      "(-9.37, -27.97)\n",
      "(-7.01, -28.75)\n",
      "(-4.59, -29.32)\n",
      "(-2.13, -29.67)\n",
      "(0.35, -29.82)\n",
      "(2.83, -29.77)\n",
      "(5.31, -29.52)\n",
      "(7.76, -29.08)\n",
      "(10.15, -28.41)\n",
      "(12.48, -27.54)\n",
      "(14.73, -26.49)\n",
      "(16.90, -25.27)\n",
      "(18.96, -23.88)\n",
      "(20.91, -22.34)\n",
      "(22.69, -20.61)\n",
      "(24.34, -18.74)\n",
      "(25.84, -16.76)\n",
      "(27.19, -14.67)\n",
      "(28.37, -12.49)\n",
      "(29.34, -10.19)\n",
      "(30.12, -7.83)\n",
      "(30.73, -5.42)\n",
      "(31.15, -2.98)\n",
      "(31.40, -0.50)\n"
     ]
    }
   ],
   "source": [
    "import numpy as np\n",
    "\n",
    "phi = np.arange(0, 10*np.pi, 0.1)\n",
    "radius = 1\n",
    "x_original = radius * phi * np.cos(phi)\n",
    "y_original = radius * phi * np.sin(phi)\n",
    "\n",
    "segment_lengths = (np.diff(x_original)**2 + np.diff(y_original)**2)**0.5\n",
    "cumulative_distance = np.zeros_like(x_original)\n",
    "cumulative_distance[1:] = np.cumsum(segment_lengths)\n",
    "\n",
    "equidistant_distance = np.linspace(0, cumulative_distance.max(), 200)\n",
    "x_interpolated = np.interp(equidistant_distance, cumulative_distance, x_original)\n",
    "y_interpolated = np.interp(equidistant_distance, cumulative_distance, y_original)\n",
    "\n",
    "print(\"Equidistant sampled points:\")\n",
    "for x, y in zip(x_interpolated, y_interpolated):\n",
    "    print(f\"({x:.2f}, {y:.2f})\")\n"
   ]
  },
  {
   "cell_type": "markdown",
   "id": "2b69272e",
   "metadata": {},
   "source": [
    "#### 99. Given an integer n and a 2D array X, select from X the rows which can be interpreted as draws from a multinomial distribution with n degrees, i.e., the rows which only contain integers and which sum to n."
   ]
  },
  {
   "cell_type": "code",
   "execution_count": 938,
   "id": "55c8b034",
   "metadata": {},
   "outputs": [
    {
     "data": {
      "text/plain": [
       "array([[10,  1,  1]])"
      ]
     },
     "execution_count": 938,
     "metadata": {},
     "output_type": "execute_result"
    }
   ],
   "source": [
    "n = 12\n",
    "\n",
    "X = np.array([[1, 2, 7], [3, 4, 3], [0, 6, 0], [10, 1, 1], [2, 3, 5]])\n",
    "\n",
    "is_multinomial = np.logical_and(np.all(X == X.astype(int), axis=1), np.sum(X, axis=1) == n)\n",
    "selected_rows = X[is_multinomial]\n",
    "selected_rows"
   ]
  },
  {
   "cell_type": "markdown",
   "id": "59ab5516",
   "metadata": {},
   "source": [
    "#### 100. Compute bootstrapped 95% confidence intervals for the mean of a 1D array X (i.e., resample the elements of an array with replacement N times, compute the mean of each sample, and then compute percentiles over the means)."
   ]
  },
  {
   "cell_type": "code",
   "execution_count": 952,
   "id": "450877d8",
   "metadata": {},
   "outputs": [
    {
     "name": "stdout",
     "output_type": "stream",
     "text": [
      "Bootstrapped 95% confidence interval for the mean:\n",
      "Lower bound: -0.11\n",
      "Upper bound: 0.25\n"
     ]
    }
   ],
   "source": [
    "import numpy as np\n",
    "\n",
    "X = np.random.randn(100) # random 1D array\n",
    "N = 1000\n",
    "bootstrap_means = np.zeros(N)\n",
    "\n",
    "for i in range(N):\n",
    "    bootstrap_sample = np.random.choice(X, size=len(X), replace=True)\n",
    "    bootstrap_means[i] = np.mean(bootstrap_sample)\n",
    "\n",
    "confidence_interval = np.percentile(bootstrap_means, [2.5, 97.5])\n",
    "\n",
    "print(\"Bootstrapped 95% confidence interval for the mean:\")\n",
    "print(f\"Lower bound: {confidence_interval[0]:.2f}\")\n",
    "print(f\"Upper bound: {confidence_interval[1]:.2f}\")"
   ]
  }
 ],
 "metadata": {
  "kernelspec": {
   "display_name": "Python 3 (ipykernel)",
   "language": "python",
   "name": "python3"
  },
  "language_info": {
   "codemirror_mode": {
    "name": "ipython",
    "version": 3
   },
   "file_extension": ".py",
   "mimetype": "text/x-python",
   "name": "python",
   "nbconvert_exporter": "python",
   "pygments_lexer": "ipython3",
   "version": "3.12.4"
  }
 },
 "nbformat": 4,
 "nbformat_minor": 5
}
